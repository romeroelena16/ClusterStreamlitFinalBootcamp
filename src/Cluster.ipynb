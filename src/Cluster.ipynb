{
  "cells": [
    {
      "cell_type": "code",
      "execution_count": null,
      "metadata": {
        "id": "R15K9MhYzuib"
      },
      "outputs": [],
      "source": [
        "# importing necessary libraries\n",
        "import pandas as pd\n",
        "import numpy as np\n",
        "import seaborn as sns\n",
        "from kmodes.kmodes import KModes\n",
        "import matplotlib.pyplot as plt\n",
        "import warnings\n",
        "warnings.filterwarnings(\"ignore\")\n",
        "%matplotlib inline"
      ]
    },
    {
      "cell_type": "code",
      "execution_count": null,
      "metadata": {
        "colab": {
          "base_uri": "https://localhost:8080/"
        },
        "id": "cbMXpof0z2GH",
        "outputId": "b7bf00ad-0797-4cab-d84f-dc82de8d889a"
      },
      "outputs": [],
      "source": [
        "# instalanado kmodes\n",
        "#!pip install kmodes"
      ]
    },
    {
      "cell_type": "code",
      "execution_count": null,
      "metadata": {
        "colab": {
          "base_uri": "https://localhost:8080/"
        },
        "id": "XVq-dRJP0K62",
        "outputId": "d17a9411-8c7e-4dec-ae9c-c7ff09449541"
      },
      "outputs": [
        {
          "data": {
            "text/html": [
              "\n",
              "  <div id=\"df-3cd49e1c-118e-4868-8ce6-745201dbd85b\">\n",
              "    <div class=\"colab-df-container\">\n",
              "      <div>\n",
              "<style scoped>\n",
              "    .dataframe tbody tr th:only-of-type {\n",
              "        vertical-align: middle;\n",
              "    }\n",
              "\n",
              "    .dataframe tbody tr th {\n",
              "        vertical-align: top;\n",
              "    }\n",
              "\n",
              "    .dataframe thead th {\n",
              "        text-align: right;\n",
              "    }\n",
              "</style>\n",
              "<table border=\"1\" class=\"dataframe\">\n",
              "  <thead>\n",
              "    <tr style=\"text-align: right;\">\n",
              "      <th></th>\n",
              "      <th>Titulo</th>\n",
              "      <th>Link</th>\n",
              "      <th>Precio Normal</th>\n",
              "      <th>Precio Online</th>\n",
              "      <th>Modelo</th>\n",
              "      <th>Marca</th>\n",
              "      <th>Tarjeta de Video</th>\n",
              "      <th>Procesador</th>\n",
              "      <th>Memoria Ram</th>\n",
              "      <th>Pulgadas Pantalla</th>\n",
              "      <th>Tipo de Almacenamiento</th>\n",
              "      <th>Almacenamiento</th>\n",
              "      <th>Tipo de Pantalla</th>\n",
              "      <th>Tipo de Memoria Ram</th>\n",
              "      <th>Tienda</th>\n",
              "    </tr>\n",
              "  </thead>\n",
              "  <tbody>\n",
              "    <tr>\n",
              "      <th>0</th>\n",
              "      <td>Laptop Asus ROG Flow X13 GV301QH 13.4\" AMD Ryz...</td>\n",
              "      <td>https://hiraoka.com.pe/computo-y-tecnologia/co...</td>\n",
              "      <td>15199.0</td>\n",
              "      <td>15199</td>\n",
              "      <td>ROG Flow X13 GV301QH</td>\n",
              "      <td>ASUS</td>\n",
              "      <td>NVIDIA GeForce GTX 1650</td>\n",
              "      <td>AMD Ryzen 9</td>\n",
              "      <td>16GB</td>\n",
              "      <td>13.4''</td>\n",
              "      <td>SSD</td>\n",
              "      <td>1TB</td>\n",
              "      <td>WUXGA</td>\n",
              "      <td>DDR4</td>\n",
              "      <td>Hiraoka</td>\n",
              "    </tr>\n",
              "    <tr>\n",
              "      <th>1</th>\n",
              "      <td>Laptop Gamer Acer PT516-51S-76HY 16\" Intel Cor...</td>\n",
              "      <td>https://hiraoka.com.pe/computo-y-tecnologia/co...</td>\n",
              "      <td>13999.0</td>\n",
              "      <td>13399</td>\n",
              "      <td>PT516-51S-76HY</td>\n",
              "      <td>ACER</td>\n",
              "      <td>NVIDIA GeForce RTX 3080</td>\n",
              "      <td>Intel Core i7</td>\n",
              "      <td>8GB</td>\n",
              "      <td>16''</td>\n",
              "      <td>SSD</td>\n",
              "      <td>1TB</td>\n",
              "      <td>WQXGA</td>\n",
              "      <td>DDR4</td>\n",
              "      <td>Hiraoka</td>\n",
              "    </tr>\n",
              "  </tbody>\n",
              "</table>\n",
              "</div>\n",
              "      <button class=\"colab-df-convert\" onclick=\"convertToInteractive('df-3cd49e1c-118e-4868-8ce6-745201dbd85b')\"\n",
              "              title=\"Convert this dataframe to an interactive table.\"\n",
              "              style=\"display:none;\">\n",
              "        \n",
              "  <svg xmlns=\"http://www.w3.org/2000/svg\" height=\"24px\"viewBox=\"0 0 24 24\"\n",
              "       width=\"24px\">\n",
              "    <path d=\"M0 0h24v24H0V0z\" fill=\"none\"/>\n",
              "    <path d=\"M18.56 5.44l.94 2.06.94-2.06 2.06-.94-2.06-.94-.94-2.06-.94 2.06-2.06.94zm-11 1L8.5 8.5l.94-2.06 2.06-.94-2.06-.94L8.5 2.5l-.94 2.06-2.06.94zm10 10l.94 2.06.94-2.06 2.06-.94-2.06-.94-.94-2.06-.94 2.06-2.06.94z\"/><path d=\"M17.41 7.96l-1.37-1.37c-.4-.4-.92-.59-1.43-.59-.52 0-1.04.2-1.43.59L10.3 9.45l-7.72 7.72c-.78.78-.78 2.05 0 2.83L4 21.41c.39.39.9.59 1.41.59.51 0 1.02-.2 1.41-.59l7.78-7.78 2.81-2.81c.8-.78.8-2.07 0-2.86zM5.41 20L4 18.59l7.72-7.72 1.47 1.35L5.41 20z\"/>\n",
              "  </svg>\n",
              "      </button>\n",
              "      \n",
              "  <style>\n",
              "    .colab-df-container {\n",
              "      display:flex;\n",
              "      flex-wrap:wrap;\n",
              "      gap: 12px;\n",
              "    }\n",
              "\n",
              "    .colab-df-convert {\n",
              "      background-color: #E8F0FE;\n",
              "      border: none;\n",
              "      border-radius: 50%;\n",
              "      cursor: pointer;\n",
              "      display: none;\n",
              "      fill: #1967D2;\n",
              "      height: 32px;\n",
              "      padding: 0 0 0 0;\n",
              "      width: 32px;\n",
              "    }\n",
              "\n",
              "    .colab-df-convert:hover {\n",
              "      background-color: #E2EBFA;\n",
              "      box-shadow: 0px 1px 2px rgba(60, 64, 67, 0.3), 0px 1px 3px 1px rgba(60, 64, 67, 0.15);\n",
              "      fill: #174EA6;\n",
              "    }\n",
              "\n",
              "    [theme=dark] .colab-df-convert {\n",
              "      background-color: #3B4455;\n",
              "      fill: #D2E3FC;\n",
              "    }\n",
              "\n",
              "    [theme=dark] .colab-df-convert:hover {\n",
              "      background-color: #434B5C;\n",
              "      box-shadow: 0px 1px 3px 1px rgba(0, 0, 0, 0.15);\n",
              "      filter: drop-shadow(0px 1px 2px rgba(0, 0, 0, 0.3));\n",
              "      fill: #FFFFFF;\n",
              "    }\n",
              "  </style>\n",
              "\n",
              "      <script>\n",
              "        const buttonEl =\n",
              "          document.querySelector('#df-3cd49e1c-118e-4868-8ce6-745201dbd85b button.colab-df-convert');\n",
              "        buttonEl.style.display =\n",
              "          google.colab.kernel.accessAllowed ? 'block' : 'none';\n",
              "\n",
              "        async function convertToInteractive(key) {\n",
              "          const element = document.querySelector('#df-3cd49e1c-118e-4868-8ce6-745201dbd85b');\n",
              "          const dataTable =\n",
              "            await google.colab.kernel.invokeFunction('convertToInteractive',\n",
              "                                                     [key], {});\n",
              "          if (!dataTable) return;\n",
              "\n",
              "          const docLinkHtml = 'Like what you see? Visit the ' +\n",
              "            '<a target=\"_blank\" href=https://colab.research.google.com/notebooks/data_table.ipynb>data table notebook</a>'\n",
              "            + ' to learn more about interactive tables.';\n",
              "          element.innerHTML = '';\n",
              "          dataTable['output_type'] = 'display_data';\n",
              "          await google.colab.output.renderOutput(dataTable, element);\n",
              "          const docLink = document.createElement('div');\n",
              "          docLink.innerHTML = docLinkHtml;\n",
              "          element.appendChild(docLink);\n",
              "        }\n",
              "      </script>\n",
              "    </div>\n",
              "  </div>\n",
              "  "
            ],
            "text/plain": [
              "                                              Titulo  \\\n",
              "0  Laptop Asus ROG Flow X13 GV301QH 13.4\" AMD Ryz...   \n",
              "1  Laptop Gamer Acer PT516-51S-76HY 16\" Intel Cor...   \n",
              "\n",
              "                                                Link  Precio Normal  \\\n",
              "0  https://hiraoka.com.pe/computo-y-tecnologia/co...        15199.0   \n",
              "1  https://hiraoka.com.pe/computo-y-tecnologia/co...        13999.0   \n",
              "\n",
              "   Precio Online                Modelo Marca          Tarjeta de Video  \\\n",
              "0          15199  ROG Flow X13 GV301QH  ASUS  NVIDIA GeForce GTX 1650    \n",
              "1          13399        PT516-51S-76HY  ACER   NVIDIA GeForce RTX 3080   \n",
              "\n",
              "      Procesador Memoria Ram Pulgadas Pantalla Tipo de Almacenamiento  \\\n",
              "0    AMD Ryzen 9        16GB            13.4''                    SSD   \n",
              "1  Intel Core i7         8GB              16''                    SSD   \n",
              "\n",
              "  Almacenamiento Tipo de Pantalla Tipo de Memoria Ram   Tienda  \n",
              "0            1TB            WUXGA                DDR4  Hiraoka  \n",
              "1            1TB            WQXGA                DDR4  Hiraoka  "
            ]
          },
          "execution_count": 51,
          "metadata": {},
          "output_type": "execute_result"
        }
      ],
      "source": [
        "df = pd.read_csv('./data/df_total.csv', sep=\";\") \n",
        "df.head(2)"
      ]
    },
    {
      "cell_type": "code",
      "execution_count": null,
      "metadata": {
        "colab": {
          "base_uri": "https://localhost:8080/"
        },
        "id": "_jTfKKGXdWur",
        "outputId": "83a91904-eb63-435b-9261-6739fd951cce"
      },
      "outputs": [
        {
          "data": {
            "text/plain": [
              "0      15199.0\n",
              "1      13999.0\n",
              "2      13699.0\n",
              "3      13075.0\n",
              "4      14959.0\n",
              "        ...   \n",
              "238     1319.0\n",
              "239     1899.0\n",
              "240     2329.0\n",
              "241     1099.0\n",
              "242     1080.0\n",
              "Name: Precio Normal, Length: 243, dtype: float64"
            ]
          },
          "execution_count": 52,
          "metadata": {},
          "output_type": "execute_result"
        }
      ],
      "source": [
        "df['Precio Normal'] = df['Precio Normal'].fillna(0)\n",
        "df['Precio Normal'] = np.where(df['Precio Normal']==0.0, df['Precio Online'], df['Precio Normal'])\n",
        "df['Precio Normal']"
      ]
    },
    {
      "cell_type": "code",
      "execution_count": null,
      "metadata": {
        "colab": {
          "base_uri": "https://localhost:8080/"
        },
        "id": "rrpfCM8iIcKc",
        "outputId": "11f60314-d4d2-42fa-bc4a-9f31167e3966"
      },
      "outputs": [
        {
          "data": {
            "text/html": [
              "\n",
              "  <div id=\"df-93a91bc9-30a7-48a7-a4e0-2e039cebd785\">\n",
              "    <div class=\"colab-df-container\">\n",
              "      <div>\n",
              "<style scoped>\n",
              "    .dataframe tbody tr th:only-of-type {\n",
              "        vertical-align: middle;\n",
              "    }\n",
              "\n",
              "    .dataframe tbody tr th {\n",
              "        vertical-align: top;\n",
              "    }\n",
              "\n",
              "    .dataframe thead th {\n",
              "        text-align: right;\n",
              "    }\n",
              "</style>\n",
              "<table border=\"1\" class=\"dataframe\">\n",
              "  <thead>\n",
              "    <tr style=\"text-align: right;\">\n",
              "      <th></th>\n",
              "      <th>Titulo</th>\n",
              "      <th>Link</th>\n",
              "      <th>Precio Normal</th>\n",
              "      <th>Precio Online</th>\n",
              "      <th>Modelo</th>\n",
              "      <th>Marca</th>\n",
              "      <th>Tarjeta de Video</th>\n",
              "      <th>Procesador</th>\n",
              "      <th>Memoria Ram</th>\n",
              "      <th>Pulgadas Pantalla</th>\n",
              "      <th>Tipo de Almacenamiento</th>\n",
              "      <th>Almacenamiento</th>\n",
              "      <th>Tipo de Pantalla</th>\n",
              "      <th>Tipo de Memoria Ram</th>\n",
              "      <th>Tienda</th>\n",
              "    </tr>\n",
              "  </thead>\n",
              "  <tbody>\n",
              "    <tr>\n",
              "      <th>0</th>\n",
              "      <td>Laptop Asus ROG Flow X13 GV301QH 13.4\" AMD Ryz...</td>\n",
              "      <td>https://hiraoka.com.pe/computo-y-tecnologia/co...</td>\n",
              "      <td>15199.0</td>\n",
              "      <td>15199</td>\n",
              "      <td>ROG Flow X13 GV301QH</td>\n",
              "      <td>ASUS</td>\n",
              "      <td>NVIDIA GeForce GTX 1650</td>\n",
              "      <td>AMD Ryzen 9</td>\n",
              "      <td>16GB</td>\n",
              "      <td>13.4''</td>\n",
              "      <td>SSD</td>\n",
              "      <td>1TB</td>\n",
              "      <td>WUXGA</td>\n",
              "      <td>DDR4</td>\n",
              "      <td>Hiraoka</td>\n",
              "    </tr>\n",
              "    <tr>\n",
              "      <th>1</th>\n",
              "      <td>Laptop Gamer Acer PT516-51S-76HY 16\" Intel Cor...</td>\n",
              "      <td>https://hiraoka.com.pe/computo-y-tecnologia/co...</td>\n",
              "      <td>13999.0</td>\n",
              "      <td>13399</td>\n",
              "      <td>PT516-51S-76HY</td>\n",
              "      <td>ACER</td>\n",
              "      <td>NVIDIA GeForce RTX 3080</td>\n",
              "      <td>Intel Core i7</td>\n",
              "      <td>8GB</td>\n",
              "      <td>16''</td>\n",
              "      <td>SSD</td>\n",
              "      <td>1TB</td>\n",
              "      <td>WQXGA</td>\n",
              "      <td>DDR4</td>\n",
              "      <td>Hiraoka</td>\n",
              "    </tr>\n",
              "    <tr>\n",
              "      <th>2</th>\n",
              "      <td>Laptop Gamer ASUS ROG Flow X13 GV301QH 13.4'' ...</td>\n",
              "      <td>https://www.oechsle.pe/laptop-gamer-asus-rog-f...</td>\n",
              "      <td>13699.0</td>\n",
              "      <td>13099</td>\n",
              "      <td>GV301QH-K6320T</td>\n",
              "      <td>ASUS</td>\n",
              "      <td>AMD</td>\n",
              "      <td>AMD Ryzen 9</td>\n",
              "      <td>16GB</td>\n",
              "      <td>13.4''</td>\n",
              "      <td>SSD</td>\n",
              "      <td>1TB</td>\n",
              "      <td>IPS</td>\n",
              "      <td>NaN</td>\n",
              "      <td>Oechsle</td>\n",
              "    </tr>\n",
              "  </tbody>\n",
              "</table>\n",
              "</div>\n",
              "      <button class=\"colab-df-convert\" onclick=\"convertToInteractive('df-93a91bc9-30a7-48a7-a4e0-2e039cebd785')\"\n",
              "              title=\"Convert this dataframe to an interactive table.\"\n",
              "              style=\"display:none;\">\n",
              "        \n",
              "  <svg xmlns=\"http://www.w3.org/2000/svg\" height=\"24px\"viewBox=\"0 0 24 24\"\n",
              "       width=\"24px\">\n",
              "    <path d=\"M0 0h24v24H0V0z\" fill=\"none\"/>\n",
              "    <path d=\"M18.56 5.44l.94 2.06.94-2.06 2.06-.94-2.06-.94-.94-2.06-.94 2.06-2.06.94zm-11 1L8.5 8.5l.94-2.06 2.06-.94-2.06-.94L8.5 2.5l-.94 2.06-2.06.94zm10 10l.94 2.06.94-2.06 2.06-.94-2.06-.94-.94-2.06-.94 2.06-2.06.94z\"/><path d=\"M17.41 7.96l-1.37-1.37c-.4-.4-.92-.59-1.43-.59-.52 0-1.04.2-1.43.59L10.3 9.45l-7.72 7.72c-.78.78-.78 2.05 0 2.83L4 21.41c.39.39.9.59 1.41.59.51 0 1.02-.2 1.41-.59l7.78-7.78 2.81-2.81c.8-.78.8-2.07 0-2.86zM5.41 20L4 18.59l7.72-7.72 1.47 1.35L5.41 20z\"/>\n",
              "  </svg>\n",
              "      </button>\n",
              "      \n",
              "  <style>\n",
              "    .colab-df-container {\n",
              "      display:flex;\n",
              "      flex-wrap:wrap;\n",
              "      gap: 12px;\n",
              "    }\n",
              "\n",
              "    .colab-df-convert {\n",
              "      background-color: #E8F0FE;\n",
              "      border: none;\n",
              "      border-radius: 50%;\n",
              "      cursor: pointer;\n",
              "      display: none;\n",
              "      fill: #1967D2;\n",
              "      height: 32px;\n",
              "      padding: 0 0 0 0;\n",
              "      width: 32px;\n",
              "    }\n",
              "\n",
              "    .colab-df-convert:hover {\n",
              "      background-color: #E2EBFA;\n",
              "      box-shadow: 0px 1px 2px rgba(60, 64, 67, 0.3), 0px 1px 3px 1px rgba(60, 64, 67, 0.15);\n",
              "      fill: #174EA6;\n",
              "    }\n",
              "\n",
              "    [theme=dark] .colab-df-convert {\n",
              "      background-color: #3B4455;\n",
              "      fill: #D2E3FC;\n",
              "    }\n",
              "\n",
              "    [theme=dark] .colab-df-convert:hover {\n",
              "      background-color: #434B5C;\n",
              "      box-shadow: 0px 1px 3px 1px rgba(0, 0, 0, 0.15);\n",
              "      filter: drop-shadow(0px 1px 2px rgba(0, 0, 0, 0.3));\n",
              "      fill: #FFFFFF;\n",
              "    }\n",
              "  </style>\n",
              "\n",
              "      <script>\n",
              "        const buttonEl =\n",
              "          document.querySelector('#df-93a91bc9-30a7-48a7-a4e0-2e039cebd785 button.colab-df-convert');\n",
              "        buttonEl.style.display =\n",
              "          google.colab.kernel.accessAllowed ? 'block' : 'none';\n",
              "\n",
              "        async function convertToInteractive(key) {\n",
              "          const element = document.querySelector('#df-93a91bc9-30a7-48a7-a4e0-2e039cebd785');\n",
              "          const dataTable =\n",
              "            await google.colab.kernel.invokeFunction('convertToInteractive',\n",
              "                                                     [key], {});\n",
              "          if (!dataTable) return;\n",
              "\n",
              "          const docLinkHtml = 'Like what you see? Visit the ' +\n",
              "            '<a target=\"_blank\" href=https://colab.research.google.com/notebooks/data_table.ipynb>data table notebook</a>'\n",
              "            + ' to learn more about interactive tables.';\n",
              "          element.innerHTML = '';\n",
              "          dataTable['output_type'] = 'display_data';\n",
              "          await google.colab.output.renderOutput(dataTable, element);\n",
              "          const docLink = document.createElement('div');\n",
              "          docLink.innerHTML = docLinkHtml;\n",
              "          element.appendChild(docLink);\n",
              "        }\n",
              "      </script>\n",
              "    </div>\n",
              "  </div>\n",
              "  "
            ],
            "text/plain": [
              "                                              Titulo  \\\n",
              "0  Laptop Asus ROG Flow X13 GV301QH 13.4\" AMD Ryz...   \n",
              "1  Laptop Gamer Acer PT516-51S-76HY 16\" Intel Cor...   \n",
              "2  Laptop Gamer ASUS ROG Flow X13 GV301QH 13.4'' ...   \n",
              "\n",
              "                                                Link  Precio Normal  \\\n",
              "0  https://hiraoka.com.pe/computo-y-tecnologia/co...        15199.0   \n",
              "1  https://hiraoka.com.pe/computo-y-tecnologia/co...        13999.0   \n",
              "2  https://www.oechsle.pe/laptop-gamer-asus-rog-f...        13699.0   \n",
              "\n",
              "   Precio Online                Modelo Marca          Tarjeta de Video  \\\n",
              "0          15199  ROG Flow X13 GV301QH  ASUS  NVIDIA GeForce GTX 1650    \n",
              "1          13399        PT516-51S-76HY  ACER   NVIDIA GeForce RTX 3080   \n",
              "2          13099        GV301QH-K6320T  ASUS                       AMD   \n",
              "\n",
              "      Procesador Memoria Ram Pulgadas Pantalla Tipo de Almacenamiento  \\\n",
              "0    AMD Ryzen 9        16GB            13.4''                    SSD   \n",
              "1  Intel Core i7         8GB              16''                    SSD   \n",
              "2    AMD Ryzen 9        16GB            13.4''                    SSD   \n",
              "\n",
              "  Almacenamiento Tipo de Pantalla Tipo de Memoria Ram   Tienda  \n",
              "0            1TB            WUXGA                DDR4  Hiraoka  \n",
              "1            1TB            WQXGA                DDR4  Hiraoka  \n",
              "2            1TB              IPS                 NaN  Oechsle  "
            ]
          },
          "execution_count": 53,
          "metadata": {},
          "output_type": "execute_result"
        }
      ],
      "source": [
        "df.head(3)"
      ]
    },
    {
      "cell_type": "code",
      "execution_count": null,
      "metadata": {
        "colab": {
          "base_uri": "https://localhost:8080/"
        },
        "id": "VkGFumEh4GF9",
        "outputId": "6e1acebb-88e4-4cc2-e584-1fa39a3f1601"
      },
      "outputs": [
        {
          "name": "stdout",
          "output_type": "stream",
          "text": [
            "<class 'pandas.core.frame.DataFrame'>\n",
            "RangeIndex: 243 entries, 0 to 242\n",
            "Data columns (total 15 columns):\n",
            " #   Column                  Non-Null Count  Dtype  \n",
            "---  ------                  --------------  -----  \n",
            " 0   Titulo                  243 non-null    object \n",
            " 1   Link                    243 non-null    object \n",
            " 2   Precio Normal           243 non-null    float64\n",
            " 3   Precio Online           243 non-null    int64  \n",
            " 4   Modelo                  243 non-null    object \n",
            " 5   Marca                   243 non-null    object \n",
            " 6   Tarjeta de Video        235 non-null    object \n",
            " 7   Procesador              243 non-null    object \n",
            " 8   Memoria Ram             243 non-null    object \n",
            " 9   Pulgadas Pantalla       243 non-null    object \n",
            " 10  Tipo de Almacenamiento  243 non-null    object \n",
            " 11  Almacenamiento          243 non-null    object \n",
            " 12  Tipo de Pantalla        239 non-null    object \n",
            " 13  Tipo de Memoria Ram     119 non-null    object \n",
            " 14  Tienda                  243 non-null    object \n",
            "dtypes: float64(1), int64(1), object(13)\n",
            "memory usage: 28.6+ KB\n"
          ]
        }
      ],
      "source": [
        "# Observando los valores nulos \n",
        "df.info()"
      ]
    },
    {
      "cell_type": "code",
      "execution_count": null,
      "metadata": {
        "colab": {
          "base_uri": "https://localhost:8080/"
        },
        "id": "_z0Gps7fXJQ_",
        "outputId": "73ddba13-95ef-4800-baf2-294c070db3ce"
      },
      "outputs": [
        {
          "data": {
            "text/plain": [
              "Titulo                      0\n",
              "Link                        0\n",
              "Precio Normal               0\n",
              "Precio Online               0\n",
              "Modelo                      0\n",
              "Marca                       0\n",
              "Tarjeta de Video            8\n",
              "Procesador                  0\n",
              "Memoria Ram                 0\n",
              "Pulgadas Pantalla           0\n",
              "Tipo de Almacenamiento      0\n",
              "Almacenamiento              0\n",
              "Tipo de Pantalla            4\n",
              "Tipo de Memoria Ram       124\n",
              "Tienda                      0\n",
              "dtype: int64"
            ]
          },
          "execution_count": 55,
          "metadata": {},
          "output_type": "execute_result"
        }
      ],
      "source": [
        "df.isnull().sum()"
      ]
    },
    {
      "cell_type": "markdown",
      "metadata": {
        "id": "GJEVFsgGIFPd"
      },
      "source": [
        "Convertir el Precio Normal en variable categórica"
      ]
    },
    {
      "cell_type": "markdown",
      "metadata": {
        "id": "7mB1A0Cx9Qnt"
      },
      "source": [
        "\n",
        "\n",
        "*   De 1000 - 4200: Aumenta en 400 \n",
        "*   De 4200 - 9200: Aumenta en 1000\n",
        "*   De 10000 - 15200: Aumenta en 5200\n",
        "\n"
      ]
    },
    {
      "cell_type": "code",
      "execution_count": null,
      "metadata": {
        "id": "Xyzf4hWUIKuS"
      },
      "outputs": [],
      "source": [
        "df['Precio Normal_categ'] = pd.cut(df['Precio Normal'], [1000, 1400, 1800, 2200, 2600, 3000, 3400, 3800,4200,\n",
        "                                                      5200, 6200, 7200, 8200, 9200, 10000, 15200],\n",
        "                              labels = ['1000-1400','1400-1800','1800-2200','2200-2600','2600-3000','3000-3400',\n",
        "                                        '3400-3800','3800-4200','4200-5200','5200-6200','6200-7200','7200-8200',\n",
        "                                        '8200-9200','9200-10000','10000-15200'])"
      ]
    },
    {
      "cell_type": "markdown",
      "metadata": {
        "id": "zOMLEomMIN9r"
      },
      "source": [
        "Convertir el Precio Online en variable categórica"
      ]
    },
    {
      "cell_type": "code",
      "execution_count": null,
      "metadata": {
        "id": "DpFs03fRIR_M"
      },
      "outputs": [],
      "source": [
        "df['Precio Online_categ'] = pd.cut(df['Precio Online'], [980, 1400, 1800, 2200, 2600, 3000, 3400, 3800,4200,\n",
        "                                                      5200, 6200, 7200, 8200, 9200, 10000, 15200],\n",
        "                              labels = ['980-1400','1400-1800','1800-2200','2200-2600','2600-3000','3000-3400',\n",
        "                                        '3400-3800','3800-4200','4200-5200','5200-6200','6200-7200','7200-8200',\n",
        "                                        '8200-9200','9200-10000','10000-15200'])  "
      ]
    },
    {
      "cell_type": "code",
      "execution_count": null,
      "metadata": {
        "id": "md-XyEDtfPRy"
      },
      "outputs": [],
      "source": [
        "# Generando una copia del dataframe \n",
        "df_copy = df.copy()"
      ]
    },
    {
      "cell_type": "code",
      "execution_count": null,
      "metadata": {
        "id": "dRtKoY2VerEe"
      },
      "outputs": [],
      "source": [
        "# Eliminando columnas \n",
        "df = df.drop(['Titulo','Link','Tienda','Tipo de Memoria Ram','Precio Normal','Precio Online'], axis = 1)"
      ]
    },
    {
      "cell_type": "code",
      "execution_count": null,
      "metadata": {
        "id": "VJQiV0TUSGso"
      },
      "outputs": [],
      "source": [
        "conteo_Precio_online_catg = (df[['Precio Online_categ']]                 # Seleccion de columna y elimino NaNs\n",
        "                            .groupby(['Precio Online_categ']).size()     # Agrupo y cuento las obs. por intervalo de\n",
        "                            .reset_index()                               # Convierte a df \n",
        "                            .rename({0: 'conteo'}, axis=1)               # Cambia el nombre de \"0\" a \"conteo\"\n",
        "                            .sort_values(by=['conteo'],ascending=False)) # Ordena los Datos de mayor a menor\n",
        "#conteo_Precio_online_catg.head(20)"
      ]
    },
    {
      "cell_type": "code",
      "execution_count": null,
      "metadata": {
        "colab": {
          "base_uri": "https://localhost:8080/"
        },
        "id": "Kccpx6qKTqKO",
        "outputId": "fbb166d4-9cae-4ead-db31-3c77c2e47176"
      },
      "outputs": [
        {
          "data": {
            "image/png": "[encoded data removed]",
            "text/plain": [
              "<Figure size 540x360 with 1 Axes>"
            ]
          },
          "metadata": {
            "needs_background": "light"
          },
          "output_type": "display_data"
        }
      ],
      "source": [
        "graf_Precio_online_catg = sns.catplot(data=conteo_Precio_online_catg, kind=\"bar\",\n",
        "                          x=\"conteo\", y=\"Precio Online_categ\", aspect=1.5, palette = 'rocket')\n",
        "\n",
        "graf_Precio_online_catg.fig.subplots_adjust(top=0.9)\n",
        "graf_Precio_online_catg.fig.suptitle('Cantidad de laptops por rango de precios online')\n",
        "plt.show()"
      ]
    },
    {
      "cell_type": "code",
      "execution_count": null,
      "metadata": {
        "colab": {
          "base_uri": "https://localhost:8080/"
        },
        "id": "RfZsY5yTIjnf",
        "outputId": "38746c07-6935-4945-ab1c-dea41cf6815c"
      },
      "outputs": [
        {
          "name": "stdout",
          "output_type": "stream",
          "text": [
            "<class 'pandas.core.frame.DataFrame'>\n",
            "RangeIndex: 243 entries, 0 to 242\n",
            "Data columns (total 11 columns):\n",
            " #   Column                  Non-Null Count  Dtype   \n",
            "---  ------                  --------------  -----   \n",
            " 0   Modelo                  243 non-null    object  \n",
            " 1   Marca                   243 non-null    object  \n",
            " 2   Tarjeta de Video        235 non-null    object  \n",
            " 3   Procesador              243 non-null    object  \n",
            " 4   Memoria Ram             243 non-null    object  \n",
            " 5   Pulgadas Pantalla       243 non-null    object  \n",
            " 6   Tipo de Almacenamiento  243 non-null    object  \n",
            " 7   Almacenamiento          243 non-null    object  \n",
            " 8   Tipo de Pantalla        239 non-null    object  \n",
            " 9   Precio Normal_categ     243 non-null    category\n",
            " 10  Precio Online_categ     243 non-null    category\n",
            "dtypes: category(2), object(9)\n",
            "memory usage: 19.0+ KB\n"
          ]
        }
      ],
      "source": [
        "df.info() # Comprobando de no existen valores nulos"
      ]
    },
    {
      "cell_type": "code",
      "execution_count": null,
      "metadata": {
        "colab": {
          "base_uri": "https://localhost:8080/"
        },
        "id": "-1mHSTo_Ifvi",
        "outputId": "0f87d0f8-89ea-4906-96ce-14907e663d31"
      },
      "outputs": [
        {
          "data": {
            "text/plain": [
              "Modelo                    0\n",
              "Marca                     0\n",
              "Tarjeta de Video          8\n",
              "Procesador                0\n",
              "Memoria Ram               0\n",
              "Pulgadas Pantalla         0\n",
              "Tipo de Almacenamiento    0\n",
              "Almacenamiento            0\n",
              "Tipo de Pantalla          4\n",
              "Precio Normal_categ       0\n",
              "Precio Online_categ       0\n",
              "dtype: int64"
            ]
          },
          "execution_count": 63,
          "metadata": {},
          "output_type": "execute_result"
        }
      ],
      "source": [
        "df.isnull().sum() # Comprobando de no existen valores nulos"
      ]
    },
    {
      "cell_type": "code",
      "execution_count": null,
      "metadata": {
        "id": "VY8k1eXO4IkS"
      },
      "outputs": [],
      "source": [
        "# Reemplazando valores nulos para la variable Tarjeta de video\n",
        "#df = df.fillna('No especifica')\n",
        "df['Tarjeta de Video']  = df['Tarjeta de Video'].fillna('No especifica')\n",
        "df['Tipo de Pantalla']  = df['Tipo de Pantalla'].fillna('No especifica') "
      ]
    },
    {
      "cell_type": "markdown",
      "metadata": {
        "id": "-96NcB8g4dK2"
      },
      "source": [
        "Preparación de los Datos"
      ]
    },
    {
      "cell_type": "code",
      "execution_count": null,
      "metadata": {
        "colab": {
          "base_uri": "https://localhost:8080/",
          "height": 205
        },
        "id": "gqDBpMzl4d9d",
        "outputId": "45cc0345-fcbe-418d-b288-b5c299e4845d"
      },
      "outputs": [
        {
          "data": {
            "text/html": [
              "\n",
              "  <div id=\"df-8549911f-07ab-48ed-8023-27f1d0f6e765\">\n",
              "    <div class=\"colab-df-container\">\n",
              "      <div>\n",
              "<style scoped>\n",
              "    .dataframe tbody tr th:only-of-type {\n",
              "        vertical-align: middle;\n",
              "    }\n",
              "\n",
              "    .dataframe tbody tr th {\n",
              "        vertical-align: top;\n",
              "    }\n",
              "\n",
              "    .dataframe thead th {\n",
              "        text-align: right;\n",
              "    }\n",
              "</style>\n",
              "<table border=\"1\" class=\"dataframe\">\n",
              "  <thead>\n",
              "    <tr style=\"text-align: right;\">\n",
              "      <th></th>\n",
              "      <th>Modelo</th>\n",
              "      <th>Marca</th>\n",
              "      <th>Tarjeta de Video</th>\n",
              "      <th>Procesador</th>\n",
              "      <th>Memoria Ram</th>\n",
              "      <th>Pulgadas Pantalla</th>\n",
              "      <th>Tipo de Almacenamiento</th>\n",
              "      <th>Almacenamiento</th>\n",
              "      <th>Tipo de Pantalla</th>\n",
              "      <th>Precio Normal_categ</th>\n",
              "      <th>Precio Online_categ</th>\n",
              "    </tr>\n",
              "  </thead>\n",
              "  <tbody>\n",
              "    <tr>\n",
              "      <th>0</th>\n",
              "      <td>157</td>\n",
              "      <td>2</td>\n",
              "      <td>8</td>\n",
              "      <td>3</td>\n",
              "      <td>1</td>\n",
              "      <td>2</td>\n",
              "      <td>1</td>\n",
              "      <td>2</td>\n",
              "      <td>19</td>\n",
              "      <td>1</td>\n",
              "      <td>0</td>\n",
              "    </tr>\n",
              "    <tr>\n",
              "      <th>1</th>\n",
              "      <td>153</td>\n",
              "      <td>0</td>\n",
              "      <td>18</td>\n",
              "      <td>8</td>\n",
              "      <td>4</td>\n",
              "      <td>8</td>\n",
              "      <td>1</td>\n",
              "      <td>2</td>\n",
              "      <td>18</td>\n",
              "      <td>1</td>\n",
              "      <td>0</td>\n",
              "    </tr>\n",
              "    <tr>\n",
              "      <th>2</th>\n",
              "      <td>91</td>\n",
              "      <td>2</td>\n",
              "      <td>0</td>\n",
              "      <td>3</td>\n",
              "      <td>1</td>\n",
              "      <td>2</td>\n",
              "      <td>1</td>\n",
              "      <td>2</td>\n",
              "      <td>6</td>\n",
              "      <td>1</td>\n",
              "      <td>0</td>\n",
              "    </tr>\n",
              "  </tbody>\n",
              "</table>\n",
              "</div>\n",
              "      <button class=\"colab-df-convert\" onclick=\"convertToInteractive('df-8549911f-07ab-48ed-8023-27f1d0f6e765')\"\n",
              "              title=\"Convert this dataframe to an interactive table.\"\n",
              "              style=\"display:none;\">\n",
              "        \n",
              "  <svg xmlns=\"http://www.w3.org/2000/svg\" height=\"24px\"viewBox=\"0 0 24 24\"\n",
              "       width=\"24px\">\n",
              "    <path d=\"M0 0h24v24H0V0z\" fill=\"none\"/>\n",
              "    <path d=\"M18.56 5.44l.94 2.06.94-2.06 2.06-.94-2.06-.94-.94-2.06-.94 2.06-2.06.94zm-11 1L8.5 8.5l.94-2.06 2.06-.94-2.06-.94L8.5 2.5l-.94 2.06-2.06.94zm10 10l.94 2.06.94-2.06 2.06-.94-2.06-.94-.94-2.06-.94 2.06-2.06.94z\"/><path d=\"M17.41 7.96l-1.37-1.37c-.4-.4-.92-.59-1.43-.59-.52 0-1.04.2-1.43.59L10.3 9.45l-7.72 7.72c-.78.78-.78 2.05 0 2.83L4 21.41c.39.39.9.59 1.41.59.51 0 1.02-.2 1.41-.59l7.78-7.78 2.81-2.81c.8-.78.8-2.07 0-2.86zM5.41 20L4 18.59l7.72-7.72 1.47 1.35L5.41 20z\"/>\n",
              "  </svg>\n",
              "      </button>\n",
              "      \n",
              "  <style>\n",
              "    .colab-df-container {\n",
              "      display:flex;\n",
              "      flex-wrap:wrap;\n",
              "      gap: 12px;\n",
              "    }\n",
              "\n",
              "    .colab-df-convert {\n",
              "      background-color: #E8F0FE;\n",
              "      border: none;\n",
              "      border-radius: 50%;\n",
              "      cursor: pointer;\n",
              "      display: none;\n",
              "      fill: #1967D2;\n",
              "      height: 32px;\n",
              "      padding: 0 0 0 0;\n",
              "      width: 32px;\n",
              "    }\n",
              "\n",
              "    .colab-df-convert:hover {\n",
              "      background-color: #E2EBFA;\n",
              "      box-shadow: 0px 1px 2px rgba(60, 64, 67, 0.3), 0px 1px 3px 1px rgba(60, 64, 67, 0.15);\n",
              "      fill: #174EA6;\n",
              "    }\n",
              "\n",
              "    [theme=dark] .colab-df-convert {\n",
              "      background-color: #3B4455;\n",
              "      fill: #D2E3FC;\n",
              "    }\n",
              "\n",
              "    [theme=dark] .colab-df-convert:hover {\n",
              "      background-color: #434B5C;\n",
              "      box-shadow: 0px 1px 3px 1px rgba(0, 0, 0, 0.15);\n",
              "      filter: drop-shadow(0px 1px 2px rgba(0, 0, 0, 0.3));\n",
              "      fill: #FFFFFF;\n",
              "    }\n",
              "  </style>\n",
              "\n",
              "      <script>\n",
              "        const buttonEl =\n",
              "          document.querySelector('#df-8549911f-07ab-48ed-8023-27f1d0f6e765 button.colab-df-convert');\n",
              "        buttonEl.style.display =\n",
              "          google.colab.kernel.accessAllowed ? 'block' : 'none';\n",
              "\n",
              "        async function convertToInteractive(key) {\n",
              "          const element = document.querySelector('#df-8549911f-07ab-48ed-8023-27f1d0f6e765');\n",
              "          const dataTable =\n",
              "            await google.colab.kernel.invokeFunction('convertToInteractive',\n",
              "                                                     [key], {});\n",
              "          if (!dataTable) return;\n",
              "\n",
              "          const docLinkHtml = 'Like what you see? Visit the ' +\n",
              "            '<a target=\"_blank\" href=https://colab.research.google.com/notebooks/data_table.ipynb>data table notebook</a>'\n",
              "            + ' to learn more about interactive tables.';\n",
              "          element.innerHTML = '';\n",
              "          dataTable['output_type'] = 'display_data';\n",
              "          await google.colab.output.renderOutput(dataTable, element);\n",
              "          const docLink = document.createElement('div');\n",
              "          docLink.innerHTML = docLinkHtml;\n",
              "          element.appendChild(docLink);\n",
              "        }\n",
              "      </script>\n",
              "    </div>\n",
              "  </div>\n",
              "  "
            ],
            "text/plain": [
              "   Modelo  Marca  Tarjeta de Video  Procesador  Memoria Ram  \\\n",
              "0     157      2                 8           3            1   \n",
              "1     153      0                18           8            4   \n",
              "2      91      2                 0           3            1   \n",
              "\n",
              "   Pulgadas Pantalla  Tipo de Almacenamiento  Almacenamiento  \\\n",
              "0                  2                       1               2   \n",
              "1                  8                       1               2   \n",
              "2                  2                       1               2   \n",
              "\n",
              "   Tipo de Pantalla  Precio Normal_categ  Precio Online_categ  \n",
              "0                19                    1                    0  \n",
              "1                18                    1                    0  \n",
              "2                 6                    1                    0  "
            ]
          },
          "execution_count": 65,
          "metadata": {},
          "output_type": "execute_result"
        }
      ],
      "source": [
        "from sklearn import preprocessing\n",
        "\n",
        "label_encoder = preprocessing.LabelEncoder()\n",
        "data = df.apply(label_encoder.fit_transform)\n",
        "data.head(3)"
      ]
    },
    {
      "cell_type": "code",
      "execution_count": null,
      "metadata": {
        "colab": {
          "base_uri": "https://localhost:8080/"
        },
        "id": "TKk3nedu4hzr",
        "outputId": "0f1d4f4e-833f-4a87-923d-4d814db14bb1"
      },
      "outputs": [
        {
          "name": "stdout",
          "output_type": "stream",
          "text": [
            "Init: initializing centroids\n",
            "Init: initializing clusters\n",
            "Starting iterations...\n",
            "Run 1, iteration: 1/100, moves: 66, cost: 1321.0\n",
            "Run 1, iteration: 2/100, moves: 9, cost: 1321.0\n",
            "Init: initializing centroids\n",
            "Init: initializing clusters\n",
            "Starting iterations...\n",
            "Run 2, iteration: 1/100, moves: 38, cost: 1317.0\n",
            "Run 2, iteration: 2/100, moves: 3, cost: 1317.0\n",
            "Init: initializing centroids\n",
            "Init: initializing clusters\n",
            "Starting iterations...\n",
            "Run 3, iteration: 1/100, moves: 69, cost: 1287.0\n",
            "Run 3, iteration: 2/100, moves: 27, cost: 1276.0\n",
            "Run 3, iteration: 3/100, moves: 5, cost: 1276.0\n",
            "Init: initializing centroids\n",
            "Init: initializing clusters\n",
            "Starting iterations...\n",
            "Run 4, iteration: 1/100, moves: 105, cost: 1292.0\n",
            "Run 4, iteration: 2/100, moves: 31, cost: 1268.0\n",
            "Run 4, iteration: 3/100, moves: 11, cost: 1268.0\n",
            "Init: initializing centroids\n",
            "Init: initializing clusters\n",
            "Starting iterations...\n",
            "Run 5, iteration: 1/100, moves: 80, cost: 1340.0\n",
            "Run 5, iteration: 2/100, moves: 15, cost: 1340.0\n",
            "Best run was number 4\n"
          ]
        }
      ],
      "source": [
        "# Construyendo el modelo con 5 clusters\n",
        "kmode = KModes(n_clusters = 5, init = 'Huang', n_init = 5, verbose=1, random_state = 123)\n",
        "clusters = kmode.fit_predict(data)"
      ]
    },
    {
      "cell_type": "code",
      "execution_count": null,
      "metadata": {
        "id": "YRRIUIr3FU9X"
      },
      "outputs": [],
      "source": [
        "import pickle \n",
        "import os\n",
        "filename = 'clusters.sav'\n",
        "pickle.dump(clusters, open(os.path.join(filename), 'wb'))"
      ]
    },
    {
      "cell_type": "code",
      "execution_count": null,
      "metadata": {
        "colab": {
          "base_uri": "https://localhost:8080/"
        },
        "id": "Z0dMarDv4jgr",
        "outputId": "a88d726b-a248-4a44-dfbe-e7e1959778cf"
      },
      "outputs": [
        {
          "data": {
            "text/plain": [
              "array([0, 0, 0, 0, 0, 0, 0, 0, 1, 0, 0, 0, 0, 0, 0, 0, 0, 2, 0, 3, 0, 0,\n",
              "       0, 0, 0, 0, 0, 0, 0, 0, 0, 0, 0, 0, 0, 0, 0, 0, 0, 0, 0, 0, 0, 0,\n",
              "       0, 0, 0, 2, 1, 1, 2, 0, 0, 1, 1, 2, 0, 0, 2, 0, 0, 0, 1, 2, 2, 1,\n",
              "       2, 2, 2, 2, 2, 2, 0, 0, 2, 2, 2, 2, 1, 1, 1, 0, 2, 0, 1, 1, 1, 2,\n",
              "       2, 0, 0, 1, 0, 2, 2, 2, 1, 2, 0, 1, 1, 4, 2, 2, 0, 3, 2, 2, 2, 2,\n",
              "       0, 2, 0, 2, 1, 2, 3, 1, 2, 3, 2, 2, 2, 2, 2, 2, 2, 2, 3, 2, 3, 0,\n",
              "       2, 4, 1, 3, 4, 1, 2, 3, 1, 1, 2, 1, 0, 2, 1, 4, 1, 2, 0, 1, 2, 2,\n",
              "       3, 3, 3, 0, 3, 3, 3, 3, 3, 2, 3, 3, 0, 3, 2, 0, 3, 3, 1, 2, 2, 3,\n",
              "       3, 2, 3, 3, 3, 2, 3, 3, 3, 2, 3, 3, 3, 3, 2, 3, 2, 3, 1, 1, 3, 0,\n",
              "       4, 1, 3, 4, 4, 3, 3, 3, 0, 4, 0, 4, 3, 4, 1, 2, 3, 3, 1, 4, 3, 0,\n",
              "       3, 4, 3, 3, 2, 4, 1, 4, 4, 3, 4, 3, 4, 0, 3, 1, 4, 3, 3, 1, 4, 4,\n",
              "       4], dtype=uint16)"
            ]
          },
          "execution_count": 68,
          "metadata": {},
          "output_type": "execute_result"
        }
      ],
      "source": [
        "# Predicción de Clusters\n",
        "clusters"
      ]
    },
    {
      "cell_type": "code",
      "execution_count": null,
      "metadata": {
        "id": "5vAVs4A04lOO"
      },
      "outputs": [],
      "source": [
        "# Obteniendo los centroides\n",
        "Cluster_Centroide_df = pd.DataFrame(kmode.cluster_centroids_) "
      ]
    },
    {
      "cell_type": "code",
      "execution_count": null,
      "metadata": {
        "id": "wZ6gNyC-4nEY"
      },
      "outputs": [],
      "source": [
        "Cluster_Centroide_df.columns = data.columns"
      ]
    },
    {
      "cell_type": "code",
      "execution_count": null,
      "metadata": {
        "colab": {
          "base_uri": "https://localhost:8080/"
        },
        "id": "F2Jpjg8A4oiU",
        "outputId": "2f057f2a-d0f4-40a4-8557-094fbb1ce3f0"
      },
      "outputs": [
        {
          "data": {
            "text/html": [
              "\n",
              "  <div id=\"df-9b18442a-9881-42a2-a40b-53b946e8c6fe\">\n",
              "    <div class=\"colab-df-container\">\n",
              "      <div>\n",
              "<style scoped>\n",
              "    .dataframe tbody tr th:only-of-type {\n",
              "        vertical-align: middle;\n",
              "    }\n",
              "\n",
              "    .dataframe tbody tr th {\n",
              "        vertical-align: top;\n",
              "    }\n",
              "\n",
              "    .dataframe thead th {\n",
              "        text-align: right;\n",
              "    }\n",
              "</style>\n",
              "<table border=\"1\" class=\"dataframe\">\n",
              "  <thead>\n",
              "    <tr style=\"text-align: right;\">\n",
              "      <th></th>\n",
              "      <th>Modelo</th>\n",
              "      <th>Marca</th>\n",
              "      <th>Tarjeta de Video</th>\n",
              "      <th>Procesador</th>\n",
              "      <th>Memoria Ram</th>\n",
              "      <th>Pulgadas Pantalla</th>\n",
              "      <th>Tipo de Almacenamiento</th>\n",
              "      <th>Almacenamiento</th>\n",
              "      <th>Tipo de Pantalla</th>\n",
              "      <th>Precio Normal_categ</th>\n",
              "      <th>Precio Online_categ</th>\n",
              "    </tr>\n",
              "  </thead>\n",
              "  <tbody>\n",
              "    <tr>\n",
              "      <th>0</th>\n",
              "      <td>67</td>\n",
              "      <td>2</td>\n",
              "      <td>3</td>\n",
              "      <td>8</td>\n",
              "      <td>1</td>\n",
              "      <td>7</td>\n",
              "      <td>1</td>\n",
              "      <td>8</td>\n",
              "      <td>1</td>\n",
              "      <td>10</td>\n",
              "      <td>9</td>\n",
              "    </tr>\n",
              "    <tr>\n",
              "      <th>1</th>\n",
              "      <td>135</td>\n",
              "      <td>2</td>\n",
              "      <td>0</td>\n",
              "      <td>1</td>\n",
              "      <td>4</td>\n",
              "      <td>4</td>\n",
              "      <td>1</td>\n",
              "      <td>8</td>\n",
              "      <td>1</td>\n",
              "      <td>9</td>\n",
              "      <td>4</td>\n",
              "    </tr>\n",
              "    <tr>\n",
              "      <th>2</th>\n",
              "      <td>184</td>\n",
              "      <td>2</td>\n",
              "      <td>3</td>\n",
              "      <td>7</td>\n",
              "      <td>4</td>\n",
              "      <td>7</td>\n",
              "      <td>1</td>\n",
              "      <td>8</td>\n",
              "      <td>1</td>\n",
              "      <td>9</td>\n",
              "      <td>8</td>\n",
              "    </tr>\n",
              "    <tr>\n",
              "      <th>3</th>\n",
              "      <td>3</td>\n",
              "      <td>4</td>\n",
              "      <td>3</td>\n",
              "      <td>6</td>\n",
              "      <td>4</td>\n",
              "      <td>7</td>\n",
              "      <td>1</td>\n",
              "      <td>4</td>\n",
              "      <td>5</td>\n",
              "      <td>4</td>\n",
              "      <td>3</td>\n",
              "    </tr>\n",
              "    <tr>\n",
              "      <th>4</th>\n",
              "      <td>5</td>\n",
              "      <td>6</td>\n",
              "      <td>3</td>\n",
              "      <td>6</td>\n",
              "      <td>3</td>\n",
              "      <td>4</td>\n",
              "      <td>0</td>\n",
              "      <td>2</td>\n",
              "      <td>5</td>\n",
              "      <td>3</td>\n",
              "      <td>1</td>\n",
              "    </tr>\n",
              "  </tbody>\n",
              "</table>\n",
              "</div>\n",
              "      <button class=\"colab-df-convert\" onclick=\"convertToInteractive('df-9b18442a-9881-42a2-a40b-53b946e8c6fe')\"\n",
              "              title=\"Convert this dataframe to an interactive table.\"\n",
              "              style=\"display:none;\">\n",
              "        \n",
              "  <svg xmlns=\"http://www.w3.org/2000/svg\" height=\"24px\"viewBox=\"0 0 24 24\"\n",
              "       width=\"24px\">\n",
              "    <path d=\"M0 0h24v24H0V0z\" fill=\"none\"/>\n",
              "    <path d=\"M18.56 5.44l.94 2.06.94-2.06 2.06-.94-2.06-.94-.94-2.06-.94 2.06-2.06.94zm-11 1L8.5 8.5l.94-2.06 2.06-.94-2.06-.94L8.5 2.5l-.94 2.06-2.06.94zm10 10l.94 2.06.94-2.06 2.06-.94-2.06-.94-.94-2.06-.94 2.06-2.06.94z\"/><path d=\"M17.41 7.96l-1.37-1.37c-.4-.4-.92-.59-1.43-.59-.52 0-1.04.2-1.43.59L10.3 9.45l-7.72 7.72c-.78.78-.78 2.05 0 2.83L4 21.41c.39.39.9.59 1.41.59.51 0 1.02-.2 1.41-.59l7.78-7.78 2.81-2.81c.8-.78.8-2.07 0-2.86zM5.41 20L4 18.59l7.72-7.72 1.47 1.35L5.41 20z\"/>\n",
              "  </svg>\n",
              "      </button>\n",
              "      \n",
              "  <style>\n",
              "    .colab-df-container {\n",
              "      display:flex;\n",
              "      flex-wrap:wrap;\n",
              "      gap: 12px;\n",
              "    }\n",
              "\n",
              "    .colab-df-convert {\n",
              "      background-color: #E8F0FE;\n",
              "      border: none;\n",
              "      border-radius: 50%;\n",
              "      cursor: pointer;\n",
              "      display: none;\n",
              "      fill: #1967D2;\n",
              "      height: 32px;\n",
              "      padding: 0 0 0 0;\n",
              "      width: 32px;\n",
              "    }\n",
              "\n",
              "    .colab-df-convert:hover {\n",
              "      background-color: #E2EBFA;\n",
              "      box-shadow: 0px 1px 2px rgba(60, 64, 67, 0.3), 0px 1px 3px 1px rgba(60, 64, 67, 0.15);\n",
              "      fill: #174EA6;\n",
              "    }\n",
              "\n",
              "    [theme=dark] .colab-df-convert {\n",
              "      background-color: #3B4455;\n",
              "      fill: #D2E3FC;\n",
              "    }\n",
              "\n",
              "    [theme=dark] .colab-df-convert:hover {\n",
              "      background-color: #434B5C;\n",
              "      box-shadow: 0px 1px 3px 1px rgba(0, 0, 0, 0.15);\n",
              "      filter: drop-shadow(0px 1px 2px rgba(0, 0, 0, 0.3));\n",
              "      fill: #FFFFFF;\n",
              "    }\n",
              "  </style>\n",
              "\n",
              "      <script>\n",
              "        const buttonEl =\n",
              "          document.querySelector('#df-9b18442a-9881-42a2-a40b-53b946e8c6fe button.colab-df-convert');\n",
              "        buttonEl.style.display =\n",
              "          google.colab.kernel.accessAllowed ? 'block' : 'none';\n",
              "\n",
              "        async function convertToInteractive(key) {\n",
              "          const element = document.querySelector('#df-9b18442a-9881-42a2-a40b-53b946e8c6fe');\n",
              "          const dataTable =\n",
              "            await google.colab.kernel.invokeFunction('convertToInteractive',\n",
              "                                                     [key], {});\n",
              "          if (!dataTable) return;\n",
              "\n",
              "          const docLinkHtml = 'Like what you see? Visit the ' +\n",
              "            '<a target=\"_blank\" href=https://colab.research.google.com/notebooks/data_table.ipynb>data table notebook</a>'\n",
              "            + ' to learn more about interactive tables.';\n",
              "          element.innerHTML = '';\n",
              "          dataTable['output_type'] = 'display_data';\n",
              "          await google.colab.output.renderOutput(dataTable, element);\n",
              "          const docLink = document.createElement('div');\n",
              "          docLink.innerHTML = docLinkHtml;\n",
              "          element.appendChild(docLink);\n",
              "        }\n",
              "      </script>\n",
              "    </div>\n",
              "  </div>\n",
              "  "
            ],
            "text/plain": [
              "   Modelo  Marca  Tarjeta de Video  Procesador  Memoria Ram  \\\n",
              "0      67      2                 3           8            1   \n",
              "1     135      2                 0           1            4   \n",
              "2     184      2                 3           7            4   \n",
              "3       3      4                 3           6            4   \n",
              "4       5      6                 3           6            3   \n",
              "\n",
              "   Pulgadas Pantalla  Tipo de Almacenamiento  Almacenamiento  \\\n",
              "0                  7                       1               8   \n",
              "1                  4                       1               8   \n",
              "2                  7                       1               8   \n",
              "3                  7                       1               4   \n",
              "4                  4                       0               2   \n",
              "\n",
              "   Tipo de Pantalla  Precio Normal_categ  Precio Online_categ  \n",
              "0                 1                   10                    9  \n",
              "1                 1                    9                    4  \n",
              "2                 1                    9                    8  \n",
              "3                 5                    4                    3  \n",
              "4                 5                    3                    1  "
            ]
          },
          "execution_count": 71,
          "metadata": {},
          "output_type": "execute_result"
        }
      ],
      "source": [
        "Cluster_Centroide_df"
      ]
    },
    {
      "cell_type": "markdown",
      "metadata": {
        "id": "kSJvHIkw4rRW"
      },
      "source": [
        "Elegir K comparando el costo con cada K"
      ]
    },
    {
      "cell_type": "code",
      "execution_count": null,
      "metadata": {
        "colab": {
          "base_uri": "https://localhost:8080/"
        },
        "id": "ksGULK-s4tUO",
        "outputId": "3e05b3a4-dc74-4c89-f847-62e0cf95f1cc"
      },
      "outputs": [
        {
          "name": "stdout",
          "output_type": "stream",
          "text": [
            "Init: initializing centroids\n",
            "Init: initializing clusters\n",
            "Starting iterations...\n",
            "Run 1, iteration: 1/100, moves: 0, cost: 1647.0\n",
            "Init: initializing centroids\n",
            "Init: initializing clusters\n",
            "Starting iterations...\n",
            "Run 2, iteration: 1/100, moves: 0, cost: 1647.0\n",
            "Init: initializing centroids\n",
            "Init: initializing clusters\n",
            "Starting iterations...\n",
            "Run 3, iteration: 1/100, moves: 0, cost: 1647.0\n",
            "Init: initializing centroids\n",
            "Init: initializing clusters\n",
            "Starting iterations...\n",
            "Run 4, iteration: 1/100, moves: 0, cost: 1647.0\n",
            "Init: initializing centroids\n",
            "Init: initializing clusters\n",
            "Starting iterations...\n",
            "Run 5, iteration: 1/100, moves: 0, cost: 1647.0\n",
            "Best run was number 1\n",
            "Init: initializing centroids\n",
            "Init: initializing clusters\n",
            "Starting iterations...\n",
            "Run 1, iteration: 1/100, moves: 88, cost: 1458.0\n",
            "Run 1, iteration: 2/100, moves: 15, cost: 1458.0\n",
            "Init: initializing centroids\n",
            "Init: initializing clusters\n",
            "Starting iterations...\n",
            "Run 2, iteration: 1/100, moves: 38, cost: 1501.0\n",
            "Run 2, iteration: 2/100, moves: 42, cost: 1458.0\n",
            "Run 2, iteration: 3/100, moves: 17, cost: 1458.0\n",
            "Init: initializing centroids\n",
            "Init: initializing clusters\n",
            "Starting iterations...\n",
            "Run 3, iteration: 1/100, moves: 47, cost: 1459.0\n",
            "Run 3, iteration: 2/100, moves: 18, cost: 1458.0\n",
            "Run 3, iteration: 3/100, moves: 0, cost: 1458.0\n",
            "Init: initializing centroids\n",
            "Init: initializing clusters\n",
            "Starting iterations...\n",
            "Run 4, iteration: 1/100, moves: 37, cost: 1539.0\n",
            "Init: initializing centroids\n",
            "Init: initializing clusters\n",
            "Starting iterations...\n",
            "Run 5, iteration: 1/100, moves: 24, cost: 1545.0\n",
            "Best run was number 1\n",
            "Init: initializing centroids\n",
            "Init: initializing clusters\n",
            "Starting iterations...\n",
            "Run 1, iteration: 1/100, moves: 71, cost: 1384.0\n",
            "Run 1, iteration: 2/100, moves: 12, cost: 1380.0\n",
            "Run 1, iteration: 3/100, moves: 3, cost: 1380.0\n",
            "Init: initializing centroids\n",
            "Init: initializing clusters\n",
            "Starting iterations...\n",
            "Run 2, iteration: 1/100, moves: 68, cost: 1363.0\n",
            "Run 2, iteration: 2/100, moves: 8, cost: 1363.0\n",
            "Init: initializing centroids\n",
            "Init: initializing clusters\n",
            "Starting iterations...\n",
            "Run 3, iteration: 1/100, moves: 71, cost: 1398.0\n",
            "Run 3, iteration: 2/100, moves: 39, cost: 1388.0\n",
            "Run 3, iteration: 3/100, moves: 11, cost: 1388.0\n",
            "Init: initializing centroids\n",
            "Init: initializing clusters\n",
            "Starting iterations...\n",
            "Run 4, iteration: 1/100, moves: 80, cost: 1366.0\n",
            "Run 4, iteration: 2/100, moves: 37, cost: 1365.0\n",
            "Run 4, iteration: 3/100, moves: 0, cost: 1365.0\n",
            "Init: initializing centroids\n",
            "Init: initializing clusters\n",
            "Starting iterations...\n",
            "Run 5, iteration: 1/100, moves: 49, cost: 1400.0\n",
            "Run 5, iteration: 2/100, moves: 21, cost: 1398.0\n",
            "Run 5, iteration: 3/100, moves: 5, cost: 1398.0\n",
            "Best run was number 2\n",
            "Init: initializing centroids\n",
            "Init: initializing clusters\n",
            "Starting iterations...\n",
            "Run 1, iteration: 1/100, moves: 65, cost: 1376.0\n",
            "Run 1, iteration: 2/100, moves: 9, cost: 1376.0\n",
            "Init: initializing centroids\n",
            "Init: initializing clusters\n",
            "Starting iterations...\n",
            "Run 2, iteration: 1/100, moves: 69, cost: 1356.0\n",
            "Run 2, iteration: 2/100, moves: 11, cost: 1356.0\n",
            "Init: initializing centroids\n",
            "Init: initializing clusters\n",
            "Starting iterations...\n",
            "Run 3, iteration: 1/100, moves: 87, cost: 1347.0\n",
            "Run 3, iteration: 2/100, moves: 28, cost: 1337.0\n",
            "Run 3, iteration: 3/100, moves: 3, cost: 1337.0\n",
            "Init: initializing centroids\n",
            "Init: initializing clusters\n",
            "Starting iterations...\n",
            "Run 4, iteration: 1/100, moves: 64, cost: 1353.0\n",
            "Run 4, iteration: 2/100, moves: 23, cost: 1342.0\n",
            "Run 4, iteration: 3/100, moves: 7, cost: 1342.0\n",
            "Init: initializing centroids\n",
            "Init: initializing clusters\n",
            "Starting iterations...\n",
            "Run 5, iteration: 1/100, moves: 80, cost: 1333.0\n",
            "Run 5, iteration: 2/100, moves: 7, cost: 1333.0\n",
            "Best run was number 5\n",
            "Init: initializing centroids\n",
            "Init: initializing clusters\n",
            "Starting iterations...\n",
            "Run 1, iteration: 1/100, moves: 66, cost: 1321.0\n",
            "Run 1, iteration: 2/100, moves: 9, cost: 1321.0\n",
            "Init: initializing centroids\n",
            "Init: initializing clusters\n",
            "Starting iterations...\n",
            "Run 2, iteration: 1/100, moves: 38, cost: 1317.0\n",
            "Run 2, iteration: 2/100, moves: 3, cost: 1317.0\n",
            "Init: initializing centroids\n",
            "Init: initializing clusters\n",
            "Starting iterations...\n",
            "Run 3, iteration: 1/100, moves: 69, cost: 1287.0\n",
            "Run 3, iteration: 2/100, moves: 27, cost: 1276.0\n",
            "Run 3, iteration: 3/100, moves: 5, cost: 1276.0\n",
            "Init: initializing centroids\n",
            "Init: initializing clusters\n",
            "Starting iterations...\n",
            "Run 4, iteration: 1/100, moves: 105, cost: 1292.0\n",
            "Run 4, iteration: 2/100, moves: 31, cost: 1268.0\n",
            "Run 4, iteration: 3/100, moves: 11, cost: 1268.0\n",
            "Init: initializing centroids\n",
            "Init: initializing clusters\n",
            "Starting iterations...\n",
            "Run 5, iteration: 1/100, moves: 80, cost: 1340.0\n",
            "Run 5, iteration: 2/100, moves: 15, cost: 1340.0\n",
            "Best run was number 4\n",
            "Init: initializing centroids\n",
            "Init: initializing clusters\n",
            "Starting iterations...\n",
            "Run 1, iteration: 1/100, moves: 59, cost: 1255.0\n",
            "Run 1, iteration: 2/100, moves: 4, cost: 1255.0\n",
            "Init: initializing centroids\n",
            "Init: initializing clusters\n",
            "Starting iterations...\n",
            "Run 2, iteration: 1/100, moves: 89, cost: 1291.0\n",
            "Run 2, iteration: 2/100, moves: 26, cost: 1284.0\n",
            "Run 2, iteration: 3/100, moves: 1, cost: 1284.0\n",
            "Init: initializing centroids\n",
            "Init: initializing clusters\n",
            "Starting iterations...\n",
            "Run 3, iteration: 1/100, moves: 60, cost: 1265.0\n",
            "Run 3, iteration: 2/100, moves: 5, cost: 1265.0\n",
            "Init: initializing centroids\n",
            "Init: initializing clusters\n",
            "Starting iterations...\n",
            "Run 4, iteration: 1/100, moves: 72, cost: 1248.0\n",
            "Run 4, iteration: 2/100, moves: 21, cost: 1248.0\n",
            "Init: initializing centroids\n",
            "Init: initializing clusters\n",
            "Starting iterations...\n",
            "Run 5, iteration: 1/100, moves: 71, cost: 1299.0\n",
            "Run 5, iteration: 2/100, moves: 9, cost: 1288.0\n",
            "Run 5, iteration: 3/100, moves: 4, cost: 1285.0\n",
            "Run 5, iteration: 4/100, moves: 2, cost: 1285.0\n",
            "Best run was number 4\n"
          ]
        }
      ],
      "source": [
        "cost = []\n",
        "K = range(1,7)\n",
        "for num_clusters in list(K):\n",
        "  kmode = KModes(n_clusters = num_clusters, init ='Huang', n_init = 5, verbose = 1, random_state = 123)\n",
        "  kmode.fit_predict(data)\n",
        "  cost.append(kmode.cost_)"
      ]
    },
    {
      "cell_type": "code",
      "execution_count": null,
      "metadata": {
        "colab": {
          "base_uri": "https://localhost:8080/"
        },
        "id": "FXRTZ8CL4vxd",
        "outputId": "53916e0c-a98c-4251-d071-096c2a6e6a4a"
      },
      "outputs": [
        {
          "data": {
            "image/png": "[encoded data removed]",
            "text/plain": [
              "<Figure size 432x288 with 1 Axes>"
            ]
          },
          "metadata": {
            "needs_background": "light"
          },
          "output_type": "display_data"
        }
      ],
      "source": [
        "plt.plot(K, cost, marker = 'o', color = 'b')\n",
        "plt.grid(axis ='both', linestyle ='dotted', color ='m')\n",
        "plt.xlabel('Número de clusters')\n",
        "plt.ylabel('Cost')   \n",
        "plt.title('Método del codo para K óptimo')\n",
        "plt.show()"
      ]
    },
    {
      "cell_type": "markdown",
      "metadata": {
        "id": "HjHKg14k4x-B"
      },
      "source": [
        "Conbinando los clústeres predichos con el Data Frame original"
      ]
    },
    {
      "cell_type": "code",
      "execution_count": null,
      "metadata": {
        "id": "zG6ZvWRO4z4o"
      },
      "outputs": [],
      "source": [
        "data = df_copy.reset_index()"
      ]
    },
    {
      "cell_type": "code",
      "execution_count": null,
      "metadata": {
        "id": "-qY5Lah541zx"
      },
      "outputs": [],
      "source": [
        "clusterDF = pd.DataFrame(clusters)\n",
        "clusterDF.columns = ['cluster_predicted']\n",
        "combineDF = pd.concat([data, clusterDF], axis = 1).reset_index()\n",
        "combineDF = combineDF.drop(['index', 'level_0'], axis = 1)"
      ]
    },
    {
      "cell_type": "code",
      "execution_count": null,
      "metadata": {
        "colab": {
          "base_uri": "https://localhost:8080/"
        },
        "id": "dreiYuDO43W_",
        "outputId": "d8f3ec37-272c-4757-96ad-fd67227cef04"
      },
      "outputs": [
        {
          "data": {
            "text/html": [
              "\n",
              "  <div id=\"df-249c9d94-e976-4998-bb27-ecafb336d958\">\n",
              "    <div class=\"colab-df-container\">\n",
              "      <div>\n",
              "<style scoped>\n",
              "    .dataframe tbody tr th:only-of-type {\n",
              "        vertical-align: middle;\n",
              "    }\n",
              "\n",
              "    .dataframe tbody tr th {\n",
              "        vertical-align: top;\n",
              "    }\n",
              "\n",
              "    .dataframe thead th {\n",
              "        text-align: right;\n",
              "    }\n",
              "</style>\n",
              "<table border=\"1\" class=\"dataframe\">\n",
              "  <thead>\n",
              "    <tr style=\"text-align: right;\">\n",
              "      <th></th>\n",
              "      <th>Titulo</th>\n",
              "      <th>Link</th>\n",
              "      <th>Precio Normal</th>\n",
              "      <th>Precio Online</th>\n",
              "      <th>Modelo</th>\n",
              "      <th>Marca</th>\n",
              "      <th>Tarjeta de Video</th>\n",
              "      <th>Procesador</th>\n",
              "      <th>Memoria Ram</th>\n",
              "      <th>Pulgadas Pantalla</th>\n",
              "      <th>Tipo de Almacenamiento</th>\n",
              "      <th>Almacenamiento</th>\n",
              "      <th>Tipo de Pantalla</th>\n",
              "      <th>Tipo de Memoria Ram</th>\n",
              "      <th>Tienda</th>\n",
              "      <th>Precio Normal_categ</th>\n",
              "      <th>Precio Online_categ</th>\n",
              "      <th>cluster_predicted</th>\n",
              "    </tr>\n",
              "  </thead>\n",
              "  <tbody>\n",
              "    <tr>\n",
              "      <th>0</th>\n",
              "      <td>Laptop Asus ROG Flow X13 GV301QH 13.4\" AMD Ryz...</td>\n",
              "      <td>https://hiraoka.com.pe/computo-y-tecnologia/co...</td>\n",
              "      <td>15199.0</td>\n",
              "      <td>15199</td>\n",
              "      <td>ROG Flow X13 GV301QH</td>\n",
              "      <td>ASUS</td>\n",
              "      <td>NVIDIA GeForce GTX 1650</td>\n",
              "      <td>AMD Ryzen 9</td>\n",
              "      <td>16GB</td>\n",
              "      <td>13.4''</td>\n",
              "      <td>SSD</td>\n",
              "      <td>1TB</td>\n",
              "      <td>WUXGA</td>\n",
              "      <td>DDR4</td>\n",
              "      <td>Hiraoka</td>\n",
              "      <td>10000-15200</td>\n",
              "      <td>10000-15200</td>\n",
              "      <td>0</td>\n",
              "    </tr>\n",
              "    <tr>\n",
              "      <th>1</th>\n",
              "      <td>Laptop Gamer Acer PT516-51S-76HY 16\" Intel Cor...</td>\n",
              "      <td>https://hiraoka.com.pe/computo-y-tecnologia/co...</td>\n",
              "      <td>13999.0</td>\n",
              "      <td>13399</td>\n",
              "      <td>PT516-51S-76HY</td>\n",
              "      <td>ACER</td>\n",
              "      <td>NVIDIA GeForce RTX 3080</td>\n",
              "      <td>Intel Core i7</td>\n",
              "      <td>8GB</td>\n",
              "      <td>16''</td>\n",
              "      <td>SSD</td>\n",
              "      <td>1TB</td>\n",
              "      <td>WQXGA</td>\n",
              "      <td>DDR4</td>\n",
              "      <td>Hiraoka</td>\n",
              "      <td>10000-15200</td>\n",
              "      <td>10000-15200</td>\n",
              "      <td>0</td>\n",
              "    </tr>\n",
              "  </tbody>\n",
              "</table>\n",
              "</div>\n",
              "      <button class=\"colab-df-convert\" onclick=\"convertToInteractive('df-249c9d94-e976-4998-bb27-ecafb336d958')\"\n",
              "              title=\"Convert this dataframe to an interactive table.\"\n",
              "              style=\"display:none;\">\n",
              "        \n",
              "  <svg xmlns=\"http://www.w3.org/2000/svg\" height=\"24px\"viewBox=\"0 0 24 24\"\n",
              "       width=\"24px\">\n",
              "    <path d=\"M0 0h24v24H0V0z\" fill=\"none\"/>\n",
              "    <path d=\"M18.56 5.44l.94 2.06.94-2.06 2.06-.94-2.06-.94-.94-2.06-.94 2.06-2.06.94zm-11 1L8.5 8.5l.94-2.06 2.06-.94-2.06-.94L8.5 2.5l-.94 2.06-2.06.94zm10 10l.94 2.06.94-2.06 2.06-.94-2.06-.94-.94-2.06-.94 2.06-2.06.94z\"/><path d=\"M17.41 7.96l-1.37-1.37c-.4-.4-.92-.59-1.43-.59-.52 0-1.04.2-1.43.59L10.3 9.45l-7.72 7.72c-.78.78-.78 2.05 0 2.83L4 21.41c.39.39.9.59 1.41.59.51 0 1.02-.2 1.41-.59l7.78-7.78 2.81-2.81c.8-.78.8-2.07 0-2.86zM5.41 20L4 18.59l7.72-7.72 1.47 1.35L5.41 20z\"/>\n",
              "  </svg>\n",
              "      </button>\n",
              "      \n",
              "  <style>\n",
              "    .colab-df-container {\n",
              "      display:flex;\n",
              "      flex-wrap:wrap;\n",
              "      gap: 12px;\n",
              "    }\n",
              "\n",
              "    .colab-df-convert {\n",
              "      background-color: #E8F0FE;\n",
              "      border: none;\n",
              "      border-radius: 50%;\n",
              "      cursor: pointer;\n",
              "      display: none;\n",
              "      fill: #1967D2;\n",
              "      height: 32px;\n",
              "      padding: 0 0 0 0;\n",
              "      width: 32px;\n",
              "    }\n",
              "\n",
              "    .colab-df-convert:hover {\n",
              "      background-color: #E2EBFA;\n",
              "      box-shadow: 0px 1px 2px rgba(60, 64, 67, 0.3), 0px 1px 3px 1px rgba(60, 64, 67, 0.15);\n",
              "      fill: #174EA6;\n",
              "    }\n",
              "\n",
              "    [theme=dark] .colab-df-convert {\n",
              "      background-color: #3B4455;\n",
              "      fill: #D2E3FC;\n",
              "    }\n",
              "\n",
              "    [theme=dark] .colab-df-convert:hover {\n",
              "      background-color: #434B5C;\n",
              "      box-shadow: 0px 1px 3px 1px rgba(0, 0, 0, 0.15);\n",
              "      filter: drop-shadow(0px 1px 2px rgba(0, 0, 0, 0.3));\n",
              "      fill: #FFFFFF;\n",
              "    }\n",
              "  </style>\n",
              "\n",
              "      <script>\n",
              "        const buttonEl =\n",
              "          document.querySelector('#df-249c9d94-e976-4998-bb27-ecafb336d958 button.colab-df-convert');\n",
              "        buttonEl.style.display =\n",
              "          google.colab.kernel.accessAllowed ? 'block' : 'none';\n",
              "\n",
              "        async function convertToInteractive(key) {\n",
              "          const element = document.querySelector('#df-249c9d94-e976-4998-bb27-ecafb336d958');\n",
              "          const dataTable =\n",
              "            await google.colab.kernel.invokeFunction('convertToInteractive',\n",
              "                                                     [key], {});\n",
              "          if (!dataTable) return;\n",
              "\n",
              "          const docLinkHtml = 'Like what you see? Visit the ' +\n",
              "            '<a target=\"_blank\" href=https://colab.research.google.com/notebooks/data_table.ipynb>data table notebook</a>'\n",
              "            + ' to learn more about interactive tables.';\n",
              "          element.innerHTML = '';\n",
              "          dataTable['output_type'] = 'display_data';\n",
              "          await google.colab.output.renderOutput(dataTable, element);\n",
              "          const docLink = document.createElement('div');\n",
              "          docLink.innerHTML = docLinkHtml;\n",
              "          element.appendChild(docLink);\n",
              "        }\n",
              "      </script>\n",
              "    </div>\n",
              "  </div>\n",
              "  "
            ],
            "text/plain": [
              "                                              Titulo  \\\n",
              "0  Laptop Asus ROG Flow X13 GV301QH 13.4\" AMD Ryz...   \n",
              "1  Laptop Gamer Acer PT516-51S-76HY 16\" Intel Cor...   \n",
              "\n",
              "                                                Link  Precio Normal  \\\n",
              "0  https://hiraoka.com.pe/computo-y-tecnologia/co...        15199.0   \n",
              "1  https://hiraoka.com.pe/computo-y-tecnologia/co...        13999.0   \n",
              "\n",
              "   Precio Online                Modelo Marca          Tarjeta de Video  \\\n",
              "0          15199  ROG Flow X13 GV301QH  ASUS  NVIDIA GeForce GTX 1650    \n",
              "1          13399        PT516-51S-76HY  ACER   NVIDIA GeForce RTX 3080   \n",
              "\n",
              "      Procesador Memoria Ram Pulgadas Pantalla Tipo de Almacenamiento  \\\n",
              "0    AMD Ryzen 9        16GB            13.4''                    SSD   \n",
              "1  Intel Core i7         8GB              16''                    SSD   \n",
              "\n",
              "  Almacenamiento Tipo de Pantalla Tipo de Memoria Ram   Tienda  \\\n",
              "0            1TB            WUXGA                DDR4  Hiraoka   \n",
              "1            1TB            WQXGA                DDR4  Hiraoka   \n",
              "\n",
              "  Precio Normal_categ Precio Online_categ  cluster_predicted  \n",
              "0         10000-15200         10000-15200                  0  \n",
              "1         10000-15200         10000-15200                  0  "
            ]
          },
          "execution_count": 76,
          "metadata": {},
          "output_type": "execute_result"
        }
      ],
      "source": [
        "combineDF.head(2)"
      ]
    },
    {
      "cell_type": "markdown",
      "metadata": {
        "id": "ps2IC18r45hT"
      },
      "source": [
        "Identificamos los Clusters"
      ]
    },
    {
      "cell_type": "code",
      "execution_count": null,
      "metadata": {
        "id": "oSWBH-rr472l"
      },
      "outputs": [],
      "source": [
        "Cluster_0 = combineDF[combineDF['cluster_predicted'] == 0]\n",
        "Cluster_1 = combineDF[combineDF['cluster_predicted'] == 1]\n",
        "Cluster_2 = combineDF[combineDF['cluster_predicted'] == 2]\n",
        "Cluster_3 = combineDF[combineDF['cluster_predicted'] == 3]\n",
        "Cluster_4 = combineDF[combineDF['cluster_predicted'] == 4]"
      ]
    },
    {
      "cell_type": "code",
      "execution_count": null,
      "metadata": {
        "id": "oZ5MH6DkDbtx"
      },
      "outputs": [],
      "source": [
        "df_cluster = pd.DataFrame()\n",
        "df_cluster = df_cluster.append(Cluster_0,ignore_index=True)\n",
        "df_cluster = df_cluster.append(Cluster_1,ignore_index=True)\n",
        "df_cluster = df_cluster.append(Cluster_2,ignore_index=True)\n",
        "df_cluster = df_cluster.append(Cluster_3,ignore_index=True)\n",
        "df_cluster = df_cluster.append(Cluster_4,ignore_index=True)"
      ]
    },
    {
      "cell_type": "code",
      "execution_count": null,
      "metadata": {
        "id": "OtsLLgTwFB0t"
      },
      "outputs": [],
      "source": [
        "df_cluster.to_csv('ClusterFinal.csv')"
      ]
    },
    {
      "cell_type": "code",
      "execution_count": null,
      "metadata": {
        "colab": {
          "base_uri": "https://localhost:8080/",
          "height": 572
        },
        "id": "x72_aM45bhcX",
        "outputId": "5ab1c00a-c554-4cb0-d914-533e7bc8d3de"
      },
      "outputs": [
        {
          "data": {
            "text/html": [
              "\n",
              "  <div id=\"df-7109b4b6-6f46-4bb7-a617-9bcb7ffda216\">\n",
              "    <div class=\"colab-df-container\">\n",
              "      <div>\n",
              "<style scoped>\n",
              "    .dataframe tbody tr th:only-of-type {\n",
              "        vertical-align: middle;\n",
              "    }\n",
              "\n",
              "    .dataframe tbody tr th {\n",
              "        vertical-align: top;\n",
              "    }\n",
              "\n",
              "    .dataframe thead th {\n",
              "        text-align: right;\n",
              "    }\n",
              "</style>\n",
              "<table border=\"1\" class=\"dataframe\">\n",
              "  <thead>\n",
              "    <tr style=\"text-align: right;\">\n",
              "      <th></th>\n",
              "      <th>Titulo</th>\n",
              "      <th>Link</th>\n",
              "      <th>Precio Normal</th>\n",
              "      <th>Precio Online</th>\n",
              "      <th>Modelo</th>\n",
              "      <th>Marca</th>\n",
              "      <th>Tarjeta de Video</th>\n",
              "      <th>Procesador</th>\n",
              "      <th>Memoria Ram</th>\n",
              "      <th>Pulgadas Pantalla</th>\n",
              "      <th>Tipo de Almacenamiento</th>\n",
              "      <th>Almacenamiento</th>\n",
              "      <th>Tipo de Pantalla</th>\n",
              "      <th>Tipo de Memoria Ram</th>\n",
              "      <th>Tienda</th>\n",
              "      <th>Precio Normal_categ</th>\n",
              "      <th>Precio Online_categ</th>\n",
              "      <th>cluster_predicted</th>\n",
              "    </tr>\n",
              "  </thead>\n",
              "  <tbody>\n",
              "    <tr>\n",
              "      <th>0</th>\n",
              "      <td>Laptop Asus ROG Flow X13 GV301QH 13.4\" AMD Ryz...</td>\n",
              "      <td>https://hiraoka.com.pe/computo-y-tecnologia/co...</td>\n",
              "      <td>15199.0</td>\n",
              "      <td>15199</td>\n",
              "      <td>ROG Flow X13 GV301QH</td>\n",
              "      <td>ASUS</td>\n",
              "      <td>NVIDIA GeForce GTX 1650</td>\n",
              "      <td>AMD Ryzen 9</td>\n",
              "      <td>16GB</td>\n",
              "      <td>13.4''</td>\n",
              "      <td>SSD</td>\n",
              "      <td>1TB</td>\n",
              "      <td>WUXGA</td>\n",
              "      <td>DDR4</td>\n",
              "      <td>Hiraoka</td>\n",
              "      <td>10000-15200</td>\n",
              "      <td>10000-15200</td>\n",
              "      <td>0</td>\n",
              "    </tr>\n",
              "    <tr>\n",
              "      <th>1</th>\n",
              "      <td>Laptop Gamer Acer PT516-51S-76HY 16\" Intel Cor...</td>\n",
              "      <td>https://hiraoka.com.pe/computo-y-tecnologia/co...</td>\n",
              "      <td>13999.0</td>\n",
              "      <td>13399</td>\n",
              "      <td>PT516-51S-76HY</td>\n",
              "      <td>ACER</td>\n",
              "      <td>NVIDIA GeForce RTX 3080</td>\n",
              "      <td>Intel Core i7</td>\n",
              "      <td>8GB</td>\n",
              "      <td>16''</td>\n",
              "      <td>SSD</td>\n",
              "      <td>1TB</td>\n",
              "      <td>WQXGA</td>\n",
              "      <td>DDR4</td>\n",
              "      <td>Hiraoka</td>\n",
              "      <td>10000-15200</td>\n",
              "      <td>10000-15200</td>\n",
              "      <td>0</td>\n",
              "    </tr>\n",
              "    <tr>\n",
              "      <th>2</th>\n",
              "      <td>Laptop Gamer ASUS ROG Flow X13 GV301QH 13.4'' ...</td>\n",
              "      <td>https://www.oechsle.pe/laptop-gamer-asus-rog-f...</td>\n",
              "      <td>13699.0</td>\n",
              "      <td>13099</td>\n",
              "      <td>GV301QH-K6320T</td>\n",
              "      <td>ASUS</td>\n",
              "      <td>AMD</td>\n",
              "      <td>AMD Ryzen 9</td>\n",
              "      <td>16GB</td>\n",
              "      <td>13.4''</td>\n",
              "      <td>SSD</td>\n",
              "      <td>1TB</td>\n",
              "      <td>IPS</td>\n",
              "      <td>NaN</td>\n",
              "      <td>Oechsle</td>\n",
              "      <td>10000-15200</td>\n",
              "      <td>10000-15200</td>\n",
              "      <td>0</td>\n",
              "    </tr>\n",
              "  </tbody>\n",
              "</table>\n",
              "</div>\n",
              "      <button class=\"colab-df-convert\" onclick=\"convertToInteractive('df-7109b4b6-6f46-4bb7-a617-9bcb7ffda216')\"\n",
              "              title=\"Convert this dataframe to an interactive table.\"\n",
              "              style=\"display:none;\">\n",
              "        \n",
              "  <svg xmlns=\"http://www.w3.org/2000/svg\" height=\"24px\"viewBox=\"0 0 24 24\"\n",
              "       width=\"24px\">\n",
              "    <path d=\"M0 0h24v24H0V0z\" fill=\"none\"/>\n",
              "    <path d=\"M18.56 5.44l.94 2.06.94-2.06 2.06-.94-2.06-.94-.94-2.06-.94 2.06-2.06.94zm-11 1L8.5 8.5l.94-2.06 2.06-.94-2.06-.94L8.5 2.5l-.94 2.06-2.06.94zm10 10l.94 2.06.94-2.06 2.06-.94-2.06-.94-.94-2.06-.94 2.06-2.06.94z\"/><path d=\"M17.41 7.96l-1.37-1.37c-.4-.4-.92-.59-1.43-.59-.52 0-1.04.2-1.43.59L10.3 9.45l-7.72 7.72c-.78.78-.78 2.05 0 2.83L4 21.41c.39.39.9.59 1.41.59.51 0 1.02-.2 1.41-.59l7.78-7.78 2.81-2.81c.8-.78.8-2.07 0-2.86zM5.41 20L4 18.59l7.72-7.72 1.47 1.35L5.41 20z\"/>\n",
              "  </svg>\n",
              "      </button>\n",
              "      \n",
              "  <style>\n",
              "    .colab-df-container {\n",
              "      display:flex;\n",
              "      flex-wrap:wrap;\n",
              "      gap: 12px;\n",
              "    }\n",
              "\n",
              "    .colab-df-convert {\n",
              "      background-color: #E8F0FE;\n",
              "      border: none;\n",
              "      border-radius: 50%;\n",
              "      cursor: pointer;\n",
              "      display: none;\n",
              "      fill: #1967D2;\n",
              "      height: 32px;\n",
              "      padding: 0 0 0 0;\n",
              "      width: 32px;\n",
              "    }\n",
              "\n",
              "    .colab-df-convert:hover {\n",
              "      background-color: #E2EBFA;\n",
              "      box-shadow: 0px 1px 2px rgba(60, 64, 67, 0.3), 0px 1px 3px 1px rgba(60, 64, 67, 0.15);\n",
              "      fill: #174EA6;\n",
              "    }\n",
              "\n",
              "    [theme=dark] .colab-df-convert {\n",
              "      background-color: #3B4455;\n",
              "      fill: #D2E3FC;\n",
              "    }\n",
              "\n",
              "    [theme=dark] .colab-df-convert:hover {\n",
              "      background-color: #434B5C;\n",
              "      box-shadow: 0px 1px 3px 1px rgba(0, 0, 0, 0.15);\n",
              "      filter: drop-shadow(0px 1px 2px rgba(0, 0, 0, 0.3));\n",
              "      fill: #FFFFFF;\n",
              "    }\n",
              "  </style>\n",
              "\n",
              "      <script>\n",
              "        const buttonEl =\n",
              "          document.querySelector('#df-7109b4b6-6f46-4bb7-a617-9bcb7ffda216 button.colab-df-convert');\n",
              "        buttonEl.style.display =\n",
              "          google.colab.kernel.accessAllowed ? 'block' : 'none';\n",
              "\n",
              "        async function convertToInteractive(key) {\n",
              "          const element = document.querySelector('#df-7109b4b6-6f46-4bb7-a617-9bcb7ffda216');\n",
              "          const dataTable =\n",
              "            await google.colab.kernel.invokeFunction('convertToInteractive',\n",
              "                                                     [key], {});\n",
              "          if (!dataTable) return;\n",
              "\n",
              "          const docLinkHtml = 'Like what you see? Visit the ' +\n",
              "            '<a target=\"_blank\" href=https://colab.research.google.com/notebooks/data_table.ipynb>data table notebook</a>'\n",
              "            + ' to learn more about interactive tables.';\n",
              "          element.innerHTML = '';\n",
              "          dataTable['output_type'] = 'display_data';\n",
              "          await google.colab.output.renderOutput(dataTable, element);\n",
              "          const docLink = document.createElement('div');\n",
              "          docLink.innerHTML = docLinkHtml;\n",
              "          element.appendChild(docLink);\n",
              "        }\n",
              "      </script>\n",
              "    </div>\n",
              "  </div>\n",
              "  "
            ],
            "text/plain": [
              "                                              Titulo  \\\n",
              "0  Laptop Asus ROG Flow X13 GV301QH 13.4\" AMD Ryz...   \n",
              "1  Laptop Gamer Acer PT516-51S-76HY 16\" Intel Cor...   \n",
              "2  Laptop Gamer ASUS ROG Flow X13 GV301QH 13.4'' ...   \n",
              "\n",
              "                                                Link  Precio Normal  \\\n",
              "0  https://hiraoka.com.pe/computo-y-tecnologia/co...        15199.0   \n",
              "1  https://hiraoka.com.pe/computo-y-tecnologia/co...        13999.0   \n",
              "2  https://www.oechsle.pe/laptop-gamer-asus-rog-f...        13699.0   \n",
              "\n",
              "   Precio Online                Modelo Marca          Tarjeta de Video  \\\n",
              "0          15199  ROG Flow X13 GV301QH  ASUS  NVIDIA GeForce GTX 1650    \n",
              "1          13399        PT516-51S-76HY  ACER   NVIDIA GeForce RTX 3080   \n",
              "2          13099        GV301QH-K6320T  ASUS                       AMD   \n",
              "\n",
              "      Procesador Memoria Ram Pulgadas Pantalla Tipo de Almacenamiento  \\\n",
              "0    AMD Ryzen 9        16GB            13.4''                    SSD   \n",
              "1  Intel Core i7         8GB              16''                    SSD   \n",
              "2    AMD Ryzen 9        16GB            13.4''                    SSD   \n",
              "\n",
              "  Almacenamiento Tipo de Pantalla Tipo de Memoria Ram   Tienda  \\\n",
              "0            1TB            WUXGA                DDR4  Hiraoka   \n",
              "1            1TB            WQXGA                DDR4  Hiraoka   \n",
              "2            1TB              IPS                 NaN  Oechsle   \n",
              "\n",
              "  Precio Normal_categ Precio Online_categ  cluster_predicted  \n",
              "0         10000-15200         10000-15200                  0  \n",
              "1         10000-15200         10000-15200                  0  \n",
              "2         10000-15200         10000-15200                  0  "
            ]
          },
          "execution_count": 80,
          "metadata": {},
          "output_type": "execute_result"
        }
      ],
      "source": [
        "Cluster_0.head(3)"
      ]
    },
    {
      "cell_type": "code",
      "execution_count": null,
      "metadata": {
        "colab": {
          "base_uri": "https://localhost:8080/"
        },
        "id": "IMuC6gi-6lRA",
        "outputId": "d792ca7f-e417-43c9-9b7e-45034ec2e02f"
      },
      "outputs": [
        {
          "data": {
            "text/plain": [
              "(73, 36, 61, 52, 21)"
            ]
          },
          "execution_count": 81,
          "metadata": {},
          "output_type": "execute_result"
        }
      ],
      "source": [
        "# Cantidad de elementos por clusters\n",
        "len(Cluster_0), len(Cluster_1), len(Cluster_2) ,len(Cluster_3),len(Cluster_4)"
      ]
    },
    {
      "cell_type": "code",
      "execution_count": null,
      "metadata": {
        "colab": {
          "base_uri": "https://localhost:8080/"
        },
        "id": "hzvxoExs4-Np",
        "outputId": "98d66255-7dbf-4601-f9d5-44abf0a2e370"
      },
      "outputs": [
        {
          "name": "stdout",
          "output_type": "stream",
          "text": [
            "<class 'pandas.core.frame.DataFrame'>\n",
            "Int64Index: 73 entries, 0 to 233\n",
            "Data columns (total 18 columns):\n",
            " #   Column                  Non-Null Count  Dtype   \n",
            "---  ------                  --------------  -----   \n",
            " 0   Titulo                  73 non-null     object  \n",
            " 1   Link                    73 non-null     object  \n",
            " 2   Precio Normal           73 non-null     float64 \n",
            " 3   Precio Online           73 non-null     int64   \n",
            " 4   Modelo                  73 non-null     object  \n",
            " 5   Marca                   73 non-null     object  \n",
            " 6   Tarjeta de Video        69 non-null     object  \n",
            " 7   Procesador              73 non-null     object  \n",
            " 8   Memoria Ram             73 non-null     object  \n",
            " 9   Pulgadas Pantalla       73 non-null     object  \n",
            " 10  Tipo de Almacenamiento  73 non-null     object  \n",
            " 11  Almacenamiento          73 non-null     object  \n",
            " 12  Tipo de Pantalla        71 non-null     object  \n",
            " 13  Tipo de Memoria Ram     46 non-null     object  \n",
            " 14  Tienda                  73 non-null     object  \n",
            " 15  Precio Normal_categ     73 non-null     category\n",
            " 16  Precio Online_categ     73 non-null     category\n",
            " 17  cluster_predicted       73 non-null     uint16  \n",
            "dtypes: category(2), float64(1), int64(1), object(13), uint16(1)\n",
            "memory usage: 10.7+ KB\n"
          ]
        }
      ],
      "source": [
        "Cluster_0.info()"
      ]
    },
    {
      "cell_type": "code",
      "execution_count": null,
      "metadata": {
        "colab": {
          "base_uri": "https://localhost:8080/"
        },
        "id": "YhOYBCebgerJ",
        "outputId": "6859a527-e929-4d6e-e62c-9756faea6ba7"
      },
      "outputs": [
        {
          "data": {
            "image/png": "[encoded data removed]",
            "text/plain": [
              "<Figure size 720x360 with 1 Axes>"
            ]
          },
          "metadata": {},
          "output_type": "display_data"
        }
      ],
      "source": [
        "sns.set(rc={'figure.figsize':(10,5)})\n",
        "sns.countplot(x = Cluster_1['Marca'], order = Cluster_1['Marca'].value_counts().index,palette = 'inferno',\n",
        "              hue = Cluster_1['Marca'])\n",
        "plt.legend(ncol=3)\n",
        "plt.show()"
      ]
    },
    {
      "cell_type": "code",
      "execution_count": null,
      "metadata": {
        "colab": {
          "base_uri": "https://localhost:8080/"
        },
        "id": "VLSrpwMrZgbz",
        "outputId": "41998abe-ef0f-4b09-d118-cc1745f08f84"
      },
      "outputs": [
        {
          "data": {
            "image/png": "[encoded data removed]",
            "text/plain": [
              "<Figure size 1080x360 with 1 Axes>"
            ]
          },
          "metadata": {},
          "output_type": "display_data"
        }
      ],
      "source": [
        "sns.set(rc={'figure.figsize':(15,5)})\n",
        "sns.countplot(x = combineDF['cluster_predicted'], palette = 'inferno',\n",
        "              order=combineDF['cluster_predicted'].value_counts().index,hue=combineDF['Marca'])\n",
        "plt.title('Cantidad de tipo de marcas por Cluster')\n",
        "plt.legend(ncol=3) \n",
        "plt.show() "
      ]
    },
    {
      "cell_type": "code",
      "execution_count": null,
      "metadata": {
        "colab": {
          "base_uri": "https://localhost:8080/",
          "height": 410
        },
        "id": "lT5YacnYWD8o",
        "outputId": "971d45db-2d23-431c-ec88-54ade06f968a"
      },
      "outputs": [
        {
          "data": {
            "image/png": "[encoded data removed]",
            "text/plain": [
              "<Figure size 1080x432 with 1 Axes>"
            ]
          },
          "metadata": {},
          "output_type": "display_data"
        }
      ],
      "source": [
        "sns.set(rc={'figure.figsize':(15,6)})\n",
        "sns.countplot(x = combineDF['cluster_predicted'],palette = 'Paired',\n",
        "              order=combineDF['cluster_predicted'].value_counts().index,hue=combineDF['Precio Online_categ'])\n",
        "plt.legend(ncol=5)\n",
        "plt.title('Cantidad de rangos de precios por Cluster')\n",
        "plt.show() "
      ]
    },
    {
      "cell_type": "code",
      "execution_count": null,
      "metadata": {
        "colab": {
          "base_uri": "https://localhost:8080/",
          "height": 355
        },
        "id": "1zRb7O67YITU",
        "outputId": "16968a64-fc8e-4e5f-d920-3f54391c54b3"
      },
      "outputs": [
        {
          "data": {
            "image/png": "[encoded data removed]",
            "text/plain": [
              "<Figure size 936x360 with 1 Axes>"
            ]
          },
          "metadata": {},
          "output_type": "display_data"
        }
      ],
      "source": [
        "sns.set(rc={'figure.figsize':(13,5)})\n",
        "sns.countplot(x = combineDF['cluster_predicted'],palette = 'tab10',\n",
        "              order=combineDF['cluster_predicted'].value_counts().index,hue=combineDF['Procesador'])\n",
        "plt.legend(ncol=5)\n",
        "plt.title('Cantidad de tipos de procesadores por Cluster')\n",
        "plt.show() "
      ]
    },
    {
      "cell_type": "code",
      "execution_count": null,
      "metadata": {
        "colab": {
          "base_uri": "https://localhost:8080/"
        },
        "id": "duJhV2B0c4pk",
        "outputId": "0e9d2763-9039-4b7c-a022-854faa79db0c"
      },
      "outputs": [
        {
          "data": {
            "image/png": "[encoded data removed]",
            "text/plain": [
              "<Figure size 936x360 with 1 Axes>"
            ]
          },
          "metadata": {},
          "output_type": "display_data"
        }
      ],
      "source": [
        "sns.set(rc={'figure.figsize':(13,5)})\n",
        "sns.countplot(x = combineDF['cluster_predicted'],palette = 'inferno',\n",
        "              order=combineDF['cluster_predicted'].value_counts().index,hue=combineDF['Memoria Ram'])\n",
        "plt.legend(ncol=3)\n",
        "plt.title('Cantidad de memorias ram por Cluster')\n",
        "plt.show() "
      ]
    },
    {
      "cell_type": "code",
      "execution_count": null,
      "metadata": {
        "colab": {
          "base_uri": "https://localhost:8080/"
        },
        "id": "Sdbp-Yludz3D",
        "outputId": "4d05dd3d-7b3f-4c4b-b167-0b91142cc7f7"
      },
      "outputs": [
        {
          "data": {
            "image/png": "[encoded data removed]",
            "text/plain": [
              "<Figure size 1080x360 with 1 Axes>"
            ]
          },
          "metadata": {},
          "output_type": "display_data"
        }
      ],
      "source": [
        "sns.set(rc={'figure.figsize':(15,5)})\n",
        "sns.countplot(x = combineDF['cluster_predicted'],palette = 'bright',\n",
        "              order=combineDF['cluster_predicted'].value_counts().index,hue=combineDF['Tipo de Pantalla'])\n",
        "plt.legend(ncol=5)\n",
        "plt.title('Cantidad de Tipo de Pantalla por Cluster')\n",
        "plt.show() "
      ]
    },
    {
      "cell_type": "code",
      "execution_count": null,
      "metadata": {
        "colab": {
          "base_uri": "https://localhost:8080/"
        },
        "id": "LoWNKCOftEEl",
        "outputId": "97822f72-7878-4020-b8fd-1ca1cfd88835"
      },
      "outputs": [
        {
          "data": {
            "image/png": "[encoded data removed]",
            "text/plain": [
              "<Figure size 1440x432 with 1 Axes>"
            ]
          },
          "metadata": {},
          "output_type": "display_data"
        }
      ],
      "source": [
        "sns.set(rc={'figure.figsize':(20,6)})\n",
        "sns.countplot(x = combineDF['cluster_predicted'],palette = 'bright',\n",
        "              order=combineDF['cluster_predicted'].value_counts().index,hue=combineDF['Tarjeta de Video'])\n",
        "plt.legend(ncol=5)\n",
        "plt.title('Cantidad dr Tarjetas gráficas por Cluster')\n",
        "plt.show() "
      ]
    },
    {
      "cell_type": "code",
      "execution_count": null,
      "metadata": {
        "colab": {
          "base_uri": "https://localhost:8080/"
        },
        "id": "UkQs8mKqyS8i",
        "outputId": "30bbefc2-66fa-41b8-d745-382e649e2451"
      },
      "outputs": [
        {
          "data": {
            "image/png": "[encoded data removed]",
            "text/plain": [
              "<Figure size 1080x432 with 1 Axes>"
            ]
          },
          "metadata": {},
          "output_type": "display_data"
        }
      ],
      "source": [
        "sns.set(rc={'figure.figsize':(15,6)})\n",
        "sns.countplot(x = combineDF['cluster_predicted'],palette = 'bright',\n",
        "              order=combineDF['cluster_predicted'].value_counts().index,hue=combineDF['Almacenamiento'])\n",
        "plt.legend(ncol=5)\n",
        "plt.title('Cantidad de Almacenamiento por Cluster')\n",
        "plt.show() \n"
      ]
    }
  ],
  "metadata": {
    "colab": {
      "collapsed_sections": [],
      "name": "Proyecto Final Cluster.ipynb",
      "provenance": []
    },
    "kernelspec": {
      "display_name": "Python 3",
      "name": "python3"
    },
    "language_info": {
      "name": "python"
    }
  },
  "nbformat": 4,
  "nbformat_minor": 0
}
