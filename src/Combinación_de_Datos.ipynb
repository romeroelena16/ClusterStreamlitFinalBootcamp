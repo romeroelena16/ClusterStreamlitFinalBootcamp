{
  "nbformat": 4,
  "nbformat_minor": 0,
  "metadata": {
    "colab": {
      "name": "Combinación de Datos.ipynb",
      "provenance": []
    },
    "kernelspec": {
      "name": "python3",
      "display_name": "Python 3"
    },
    "language_info": {
      "name": "python"
    }
  },
  "cells": [
    {
      "cell_type": "code",
      "execution_count": null,
      "metadata": {
        "id": "xEET3P8K7jde"
      },
      "outputs": [],
      "source": [
        "import pandas as pd\n",
        "import numpy as np"
      ]
    },
    {
      "cell_type": "code",
      "source": [
        "df_plazavea = pd.read_csv(\"vealaptop.csv\",encoding='latin1',sep=\";\")\n",
        "df_hiraoka = pd.read_csv(\"hiraoka.csv\",sep=\";\")\n",
        "df_oechsle = pd.read_excel(\"oechsle.xlsx\")"
      ],
      "metadata": {
        "id": "bRzLwKr87y7J"
      },
      "execution_count": null,
      "outputs": []
    },
    {
      "cell_type": "code",
      "source": [
        "df_oechsle"
      ],
      "metadata": {
        "id": "ncB02D-ZFa_5"
      },
      "execution_count": null,
      "outputs": []
    },
    {
      "cell_type": "code",
      "source": [
        "df_plazavea = df_plazavea.rename(columns={'Tarjeta de video':'Tarjeta de Video','ram': 'Memoria Ram','Pulgadas de pantalla':'Tamanio Pantalla',\n",
        "                                          'Tipo de almacenamiento': 'Tipo de Almacenamiento','Precio normal':'Precio Normal',\n",
        "                                          'Precio online': 'Precio Online','Tipo de Memoria': 'Tipo de Memoria Ram'\n",
        "    \n",
        "})"
      ],
      "metadata": {
        "id": "bfYKcCgruvQ6"
      },
      "execution_count": null,
      "outputs": []
    },
    {
      "cell_type": "code",
      "source": [
        "df_plazavea = df_plazavea[['Titulo', 'Link', 'Precio Normal', 'Precio Online', 'Modelo', 'Marca',\n",
        "       'Tarjeta de Video', 'Procesador', 'Memoria Ram', 'Tamanio Pantalla',\n",
        "       'Tipo de Almacenamiento', 'Almacenamiento', 'Tipo de Pantalla',\n",
        "       'Tipo de Memoria Ram']]"
      ],
      "metadata": {
        "id": "K7ZaFGMUwAVi"
      },
      "execution_count": null,
      "outputs": []
    },
    {
      "cell_type": "code",
      "source": [
        "df_hiraoka = df_hiraoka.rename(columns={'Tarjeta de video': 'Tarjeta de Video','Memoria RAM': 'Memoria Ram',\n",
        "                                        'Pulgadas de Pantalla':'Tamanio Pantalla','Tipo de almacenamiento': 'Tipo de Almacenamiento',\n",
        "                                        'Tipo de pantalla': 'Tipo de Pantalla','Tipo de memoria RAM': 'Tipo de Memoria Ram'\n",
        "})"
      ],
      "metadata": {
        "id": "A0IOt2PWwxOV"
      },
      "execution_count": null,
      "outputs": []
    },
    {
      "cell_type": "code",
      "source": [
        "df_plazavea.columns"
      ],
      "metadata": {
        "id": "b3LDZPuZG51k"
      },
      "execution_count": null,
      "outputs": []
    },
    {
      "cell_type": "code",
      "source": [
        "df_hiraoka.columns"
      ],
      "metadata": {
        "id": "VXHeTDiBEnc2"
      },
      "execution_count": null,
      "outputs": []
    },
    {
      "cell_type": "code",
      "source": [
        "df_oechsle.columns"
      ],
      "metadata": {
        "id": "DnEodcM4I7-3"
      },
      "execution_count": null,
      "outputs": []
    },
    {
      "cell_type": "code",
      "source": [
        "df_plazavea = df_plazavea.assign(Tienda='Plazavea')\n",
        "df_hiraoka = df_hiraoka.assign(Tienda='Hiraoka')\n",
        "df_oechsle = df_oechsle.assign(Tienda='Oechsle')"
      ],
      "metadata": {
        "id": "ew1Ch7_bOx5z"
      },
      "execution_count": null,
      "outputs": []
    },
    {
      "cell_type": "code",
      "source": [
        "df_total = pd.DataFrame()\n",
        "df_total = df_total.append(df_plazavea)\n",
        "df_total = df_total.append(df_hiraoka)\n",
        "df_total = df_total.append(df_oechsle)"
      ],
      "metadata": {
        "id": "btdr2ensJfMA"
      },
      "execution_count": null,
      "outputs": []
    },
    {
      "cell_type": "code",
      "source": [
        "df_total.columns"
      ],
      "metadata": {
        "id": "xWkryRoYJyfm"
      },
      "execution_count": null,
      "outputs": []
    },
    {
      "cell_type": "code",
      "source": [
        "df_total.to_csv(\"df_total.csv\")"
      ],
      "metadata": {
        "id": "wy2EFtDyOOGg"
      },
      "execution_count": null,
      "outputs": []
    }
  ]
}